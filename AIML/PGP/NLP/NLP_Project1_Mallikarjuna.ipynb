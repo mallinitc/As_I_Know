{
 "cells": [
  {
   "cell_type": "code",
   "execution_count": null,
   "metadata": {
    "colab": {
     "base_uri": "https://localhost:8080/"
    },
    "id": "uZx6UqW0YugV",
    "outputId": "abc03e49-9070-495f-c0c1-e013eaaec664"
   },
   "outputs": [
    {
     "name": "stdout",
     "output_type": "stream",
     "text": [
      "Mounted at /content/gdrive\n"
     ]
    }
   ],
   "source": [
    "#Connecting to Gdrive\n",
    "from google.colab import drive \n",
    "drive.mount('/content/gdrive')"
   ]
  },
  {
   "cell_type": "code",
   "execution_count": null,
   "metadata": {
    "colab": {
     "base_uri": "https://localhost:8080/"
    },
    "id": "W-whr8_ZY9vQ",
    "outputId": "2d173cf1-3733-4dfd-83cb-7c48baac8b5f"
   },
   "outputs": [
    {
     "name": "stdout",
     "output_type": "stream",
     "text": [
      "/content/gdrive/My Drive/Colab Notebooks\n"
     ]
    }
   ],
   "source": [
    "#changing the working directory\n",
    "%cd /content/gdrive/My Drive/Colab Notebooks/"
   ]
  },
  {
   "cell_type": "code",
   "execution_count": null,
   "metadata": {
    "colab": {
     "base_uri": "https://localhost:8080/"
    },
    "id": "qqfhg98BY-OI",
    "outputId": "664f0429-61a0-49fb-a50c-b714d3dcd221"
   },
   "outputs": [
    {
     "name": "stdout",
     "output_type": "stream",
     "text": [
      "[nltk_data] Downloading package stopwords to /root/nltk_data...\n",
      "[nltk_data]   Unzipping corpora/stopwords.zip.\n"
     ]
    }
   ],
   "source": [
    "#PART-1\n",
    "import pandas as pd\n",
    "import numpy as np\n",
    "import scipy as sp\n",
    "import re\n",
    "import random \n",
    "\n",
    "from sklearn.model_selection import train_test_split\n",
    "from sklearn.feature_extraction.text import CountVectorizer, TfidfVectorizer\n",
    "from sklearn.naive_bayes import MultinomialNB\n",
    "from sklearn.linear_model import LogisticRegression\n",
    "from sklearn.multiclass import OneVsRestClassifier\n",
    "from sklearn.preprocessing import MultiLabelBinarizer\n",
    "from sklearn import metrics\n",
    "from sklearn.metrics import accuracy_score,recall_score,precision_score,f1_score\n",
    "%matplotlib inline\n",
    "import nltk\n",
    "nltk.download('stopwords')\n",
    "from nltk.corpus import stopwords\n",
    "from collections import Counter\n",
    "\n",
    "from sklearn.metrics import accuracy_score\n",
    "from sklearn.metrics import f1_score\n",
    "from sklearn.metrics import average_precision_score\n",
    "from sklearn.metrics import recall_score\n",
    "\n",
    "\n",
    "#PART-2\n",
    "import io\n",
    "import random\n",
    "import string # to process standard python strings\n",
    "import numpy as np\n",
    "from sklearn.feature_extraction.text import TfidfVectorizer\n",
    "from sklearn.metrics.pairwise import cosine_similarity\n",
    "import warnings\n",
    "warnings.filterwarnings('ignore')\n",
    "import nltk\n",
    "from nltk.stem import WordNetLemmatizer\n",
    "nltk.download('popular', quiet=True) # for downloading packages\n",
    "import json \n",
    "import tensorflow as tf\n",
    "from tensorflow import keras\n",
    "from tensorflow.keras.models import Sequential\n",
    "from tensorflow.keras.layers import Dense, Embedding, GlobalAveragePooling1D\n",
    "from tensorflow.keras.preprocessing.text import Tokenizer\n",
    "from tensorflow.keras.preprocessing.sequence import pad_sequences\n",
    "from sklearn.preprocessing import LabelEncoder\n",
    "\n",
    "from nltk.chat.util import Chat, reflections\n",
    "from sklearn.preprocessing import LabelEncoder\n",
    "import colorama \n",
    "colorama.init()\n",
    "from colorama import Fore, Style, Back\n",
    "import pickle\n"
   ]
  },
  {
   "cell_type": "code",
   "execution_count": null,
   "metadata": {
    "id": "6TWBGNzWZBck"
   },
   "outputs": [],
   "source": [
    "#Supress warnings\n",
    "import warnings\n",
    "warnings.filterwarnings('ignore')"
   ]
  },
  {
   "cell_type": "markdown",
   "metadata": {
    "id": "2_4Oug0hg7tY"
   },
   "source": [
    "# PART-1"
   ]
  },
  {
   "cell_type": "markdown",
   "metadata": {
    "id": "jXqkqb4bfISF"
   },
   "source": [
    "# 1.1 Import and analyse the data set."
   ]
  },
  {
   "cell_type": "code",
   "execution_count": null,
   "metadata": {
    "id": "1Ef_zR1OZEM8"
   },
   "outputs": [],
   "source": [
    "#importing the given dataset\n",
    "Part1_df = pd.read_csv('./NLP1/blogtext.csv')"
   ]
  },
  {
   "cell_type": "code",
   "execution_count": null,
   "metadata": {
    "colab": {
     "base_uri": "https://localhost:8080/"
    },
    "id": "IMP3iT0hvL4k",
    "outputId": "890fe480-7087-47ca-b47e-79f930a18bd0"
   },
   "outputs": [
    {
     "data": {
      "text/plain": [
       "(681284, 7)"
      ]
     },
     "execution_count": 110,
     "metadata": {},
     "output_type": "execute_result"
    }
   ],
   "source": [
    "## check the shape of the dataset\n",
    "Part1_df.shape"
   ]
  },
  {
   "cell_type": "markdown",
   "metadata": {
    "id": "BHzXMBLrettH"
   },
   "source": [
    "It has nearly 7 lakh records. Its highly impossible to execute on our(student's) machines & lets just use a sample of 25,000 records."
   ]
  },
  {
   "cell_type": "code",
   "execution_count": null,
   "metadata": {
    "id": "wXMulHueZJDC"
   },
   "outputs": [],
   "source": [
    "#First 50k records\n",
    "Part1_back = Part1_df.copy()\n",
    "Part1_df = Part1_df.iloc[0:50000]"
   ]
  },
  {
   "cell_type": "code",
   "execution_count": null,
   "metadata": {
    "colab": {
     "base_uri": "https://localhost:8080/"
    },
    "id": "Aosi54fgZRJa",
    "outputId": "2207a69a-bd5a-4eed-a5ae-8a3e3fa7ce53"
   },
   "outputs": [
    {
     "data": {
      "text/plain": [
       "(50000, 7)"
      ]
     },
     "execution_count": 112,
     "metadata": {},
     "output_type": "execute_result"
    }
   ],
   "source": [
    "#check the shape of the dataset now\n",
    "Part1_df.shape"
   ]
  },
  {
   "cell_type": "code",
   "execution_count": null,
   "metadata": {
    "colab": {
     "base_uri": "https://localhost:8080/",
     "height": 206
    },
    "id": "5nMtcMPSZUCh",
    "outputId": "b76fbfc0-b976-476b-d9d5-2ccdda0f49a8"
   },
   "outputs": [
    {
     "data": {
      "text/html": [
       "<div>\n",
       "<style scoped>\n",
       "    .dataframe tbody tr th:only-of-type {\n",
       "        vertical-align: middle;\n",
       "    }\n",
       "\n",
       "    .dataframe tbody tr th {\n",
       "        vertical-align: top;\n",
       "    }\n",
       "\n",
       "    .dataframe thead th {\n",
       "        text-align: right;\n",
       "    }\n",
       "</style>\n",
       "<table border=\"1\" class=\"dataframe\">\n",
       "  <thead>\n",
       "    <tr style=\"text-align: right;\">\n",
       "      <th></th>\n",
       "      <th>gender</th>\n",
       "      <th>age</th>\n",
       "      <th>topic</th>\n",
       "      <th>sign</th>\n",
       "      <th>text</th>\n",
       "    </tr>\n",
       "  </thead>\n",
       "  <tbody>\n",
       "    <tr>\n",
       "      <th>0</th>\n",
       "      <td>male</td>\n",
       "      <td>15</td>\n",
       "      <td>Student</td>\n",
       "      <td>Leo</td>\n",
       "      <td>Info has been found (+/- 100 pages,...</td>\n",
       "    </tr>\n",
       "    <tr>\n",
       "      <th>1</th>\n",
       "      <td>male</td>\n",
       "      <td>15</td>\n",
       "      <td>Student</td>\n",
       "      <td>Leo</td>\n",
       "      <td>These are the team members:   Drewe...</td>\n",
       "    </tr>\n",
       "    <tr>\n",
       "      <th>2</th>\n",
       "      <td>male</td>\n",
       "      <td>15</td>\n",
       "      <td>Student</td>\n",
       "      <td>Leo</td>\n",
       "      <td>In het kader van kernfusie op aarde...</td>\n",
       "    </tr>\n",
       "    <tr>\n",
       "      <th>3</th>\n",
       "      <td>male</td>\n",
       "      <td>15</td>\n",
       "      <td>Student</td>\n",
       "      <td>Leo</td>\n",
       "      <td>testing!!!  testing!!!</td>\n",
       "    </tr>\n",
       "    <tr>\n",
       "      <th>4</th>\n",
       "      <td>male</td>\n",
       "      <td>33</td>\n",
       "      <td>InvestmentBanking</td>\n",
       "      <td>Aquarius</td>\n",
       "      <td>Thanks to Yahoo!'s Toolbar I can ...</td>\n",
       "    </tr>\n",
       "  </tbody>\n",
       "</table>\n",
       "</div>"
      ],
      "text/plain": [
       "  gender age  ...      sign                                               text\n",
       "0   male  15  ...       Leo             Info has been found (+/- 100 pages,...\n",
       "1   male  15  ...       Leo             These are the team members:   Drewe...\n",
       "2   male  15  ...       Leo             In het kader van kernfusie op aarde...\n",
       "3   male  15  ...       Leo                   testing!!!  testing!!!          \n",
       "4   male  33  ...  Aquarius               Thanks to Yahoo!'s Toolbar I can ...\n",
       "\n",
       "[5 rows x 5 columns]"
      ]
     },
     "execution_count": 21,
     "metadata": {},
     "output_type": "execute_result"
    }
   ],
   "source": [
    "#First 5 rows\n",
    "Part1_df.head(5)"
   ]
  },
  {
   "cell_type": "code",
   "execution_count": null,
   "metadata": {
    "colab": {
     "base_uri": "https://localhost:8080/",
     "height": 206
    },
    "id": "XZcwqOUSohxd",
    "outputId": "8635782c-7547-4a63-a529-c22e26949a47"
   },
   "outputs": [
    {
     "data": {
      "text/html": [
       "<div>\n",
       "<style scoped>\n",
       "    .dataframe tbody tr th:only-of-type {\n",
       "        vertical-align: middle;\n",
       "    }\n",
       "\n",
       "    .dataframe tbody tr th {\n",
       "        vertical-align: top;\n",
       "    }\n",
       "\n",
       "    .dataframe thead th {\n",
       "        text-align: right;\n",
       "    }\n",
       "</style>\n",
       "<table border=\"1\" class=\"dataframe\">\n",
       "  <thead>\n",
       "    <tr style=\"text-align: right;\">\n",
       "      <th></th>\n",
       "      <th>gender</th>\n",
       "      <th>age</th>\n",
       "      <th>topic</th>\n",
       "      <th>sign</th>\n",
       "      <th>text</th>\n",
       "    </tr>\n",
       "  </thead>\n",
       "  <tbody>\n",
       "    <tr>\n",
       "      <th>39140</th>\n",
       "      <td>female</td>\n",
       "      <td>23</td>\n",
       "      <td>Education</td>\n",
       "      <td>Capricorn</td>\n",
       "      <td>Today was a heavily-packed-wi...</td>\n",
       "    </tr>\n",
       "    <tr>\n",
       "      <th>19447</th>\n",
       "      <td>male</td>\n",
       "      <td>35</td>\n",
       "      <td>Technology</td>\n",
       "      <td>Scorpio</td>\n",
       "      <td>I'm a bus rider.  I like not havi...</td>\n",
       "    </tr>\n",
       "    <tr>\n",
       "      <th>4972</th>\n",
       "      <td>female</td>\n",
       "      <td>17</td>\n",
       "      <td>indUnk</td>\n",
       "      <td>Scorpio</td>\n",
       "      <td>this shade of red looks more and more l...</td>\n",
       "    </tr>\n",
       "    <tr>\n",
       "      <th>47554</th>\n",
       "      <td>female</td>\n",
       "      <td>17</td>\n",
       "      <td>Student</td>\n",
       "      <td>Capricorn</td>\n",
       "      <td>Its Christmas Eve! 9hrs 30mins to g...</td>\n",
       "    </tr>\n",
       "    <tr>\n",
       "      <th>32579</th>\n",
       "      <td>female</td>\n",
       "      <td>23</td>\n",
       "      <td>indUnk</td>\n",
       "      <td>Aries</td>\n",
       "      <td>urlLink    These is Biz Admin COurse n...</td>\n",
       "    </tr>\n",
       "  </tbody>\n",
       "</table>\n",
       "</div>"
      ],
      "text/plain": [
       "       gender age  ...       sign                                               text\n",
       "39140  female  23  ...  Capricorn                   Today was a heavily-packed-wi...\n",
       "19447    male  35  ...    Scorpio               I'm a bus rider.  I like not havi...\n",
       "4972   female  17  ...    Scorpio         this shade of red looks more and more l...\n",
       "47554  female  17  ...  Capricorn             Its Christmas Eve! 9hrs 30mins to g...\n",
       "32579  female  23  ...      Aries          urlLink    These is Biz Admin COurse n...\n",
       "\n",
       "[5 rows x 5 columns]"
      ]
     },
     "execution_count": 22,
     "metadata": {},
     "output_type": "execute_result"
    }
   ],
   "source": [
    "#Random 5 rows\n",
    "Part1_df.sample(5)"
   ]
  },
  {
   "cell_type": "code",
   "execution_count": null,
   "metadata": {
    "id": "SYARmH_thlKQ"
   },
   "outputs": [],
   "source": [
    "#Dropping unwanted columns\n",
    "Part1_df.drop(['id','date'], axis=1, inplace=True)"
   ]
  },
  {
   "cell_type": "code",
   "execution_count": null,
   "metadata": {
    "colab": {
     "base_uri": "https://localhost:8080/"
    },
    "id": "nb7kTgv1ZWgB",
    "outputId": "1df890e0-89cf-4cc5-cf41-9e618dbe73f7"
   },
   "outputs": [
    {
     "name": "stdout",
     "output_type": "stream",
     "text": [
      "<class 'pandas.core.frame.DataFrame'>\n",
      "RangeIndex: 50000 entries, 0 to 49999\n",
      "Data columns (total 5 columns):\n",
      " #   Column  Non-Null Count  Dtype \n",
      "---  ------  --------------  ----- \n",
      " 0   gender  50000 non-null  object\n",
      " 1   age     50000 non-null  int64 \n",
      " 2   topic   50000 non-null  object\n",
      " 3   sign    50000 non-null  object\n",
      " 4   text    50000 non-null  object\n",
      "dtypes: int64(1), object(4)\n",
      "memory usage: 1.9+ MB\n"
     ]
    }
   ],
   "source": [
    "#Top-view\n",
    "Part1_df.info()"
   ]
  },
  {
   "cell_type": "markdown",
   "metadata": {
    "id": "Cg7BU4l1fwMy"
   },
   "source": [
    "- There are no null values. \n",
    "- Few datatypes have to be changed"
   ]
  },
  {
   "cell_type": "code",
   "execution_count": null,
   "metadata": {
    "id": "s31Xj6HeZakx"
   },
   "outputs": [],
   "source": [
    "#Changing the AGE datatype to string object\n",
    "#Text operations\n",
    "Part1_df['age'] = Part1_df['age'].astype('str')"
   ]
  },
  {
   "cell_type": "code",
   "execution_count": null,
   "metadata": {
    "colab": {
     "base_uri": "https://localhost:8080/"
    },
    "id": "IVtP4w4UZdEb",
    "outputId": "bcc2ab5b-8735-41ce-a732-de06388db508"
   },
   "outputs": [
    {
     "data": {
      "text/plain": [
       "dtype('O')"
      ]
     },
     "execution_count": 19,
     "metadata": {},
     "output_type": "execute_result"
    }
   ],
   "source": [
    "#Check the Age data type again\n",
    "Part1_df['age'].dtypes"
   ]
  },
  {
   "cell_type": "code",
   "execution_count": null,
   "metadata": {
    "colab": {
     "base_uri": "https://localhost:8080/"
    },
    "id": "BOpePXA5ZfeX",
    "outputId": "63df9c28-058c-4f76-fe01-483dd08eeb6c"
   },
   "outputs": [
    {
     "data": {
      "text/plain": [
       "gender    0\n",
       "age       0\n",
       "topic     0\n",
       "sign      0\n",
       "text      0\n",
       "dtype: int64"
      ]
     },
     "execution_count": 20,
     "metadata": {},
     "output_type": "execute_result"
    }
   ],
   "source": [
    "#Checking for NULL values explicitly\n",
    "Part1_df.isna().sum()"
   ]
  },
  {
   "cell_type": "markdown",
   "metadata": {
    "id": "iPvis8FAhknf"
   },
   "source": [
    "There seem to be no null values in the dataset"
   ]
  },
  {
   "cell_type": "markdown",
   "metadata": {
    "id": "Wb9b6qQShnau"
   },
   "source": [
    "# 1.2  Perform data pre-processing on the data:\n",
    "- Data cleansing by removing unwanted characters, spaces, stop words etc Convert text to lowercase.\n",
    "- Target/label merger and transformation\n",
    "- Train and test split\n",
    "- Vectorisation, etc."
   ]
  },
  {
   "cell_type": "code",
   "execution_count": null,
   "metadata": {
    "id": "LBFJ5PXRZkmp"
   },
   "outputs": [],
   "source": [
    "#Text cleaning \n",
    "\n",
    "def clean_text(text):\n",
    "    # remove backslash-apostrophe \n",
    "    text = re.sub(\"\\'\", \"\", text) \n",
    "    # remove everything except alphabets \n",
    "    text = re.sub(\"[^a-zA-Z]\",\" \",text) \n",
    "    # remove whitespaces \n",
    "    text = ' '.join(text.split()) \n",
    "    # convert text to lowercase \n",
    "    text = text.lower() \n",
    "    \n",
    "    return text"
   ]
  },
  {
   "cell_type": "code",
   "execution_count": null,
   "metadata": {
    "id": "lpS_cn9IZnu8"
   },
   "outputs": [],
   "source": [
    "Part1_df['clean_text'] = Part1_df['text'].apply(lambda x: clean_text(x))"
   ]
  },
  {
   "cell_type": "code",
   "execution_count": null,
   "metadata": {
    "colab": {
     "base_uri": "https://localhost:8080/",
     "height": 206
    },
    "id": "l7BDGPFiZqID",
    "outputId": "4b384ebf-94a7-4532-c885-b1ff03f0f105"
   },
   "outputs": [
    {
     "data": {
      "text/html": [
       "<div>\n",
       "<style scoped>\n",
       "    .dataframe tbody tr th:only-of-type {\n",
       "        vertical-align: middle;\n",
       "    }\n",
       "\n",
       "    .dataframe tbody tr th {\n",
       "        vertical-align: top;\n",
       "    }\n",
       "\n",
       "    .dataframe thead th {\n",
       "        text-align: right;\n",
       "    }\n",
       "</style>\n",
       "<table border=\"1\" class=\"dataframe\">\n",
       "  <thead>\n",
       "    <tr style=\"text-align: right;\">\n",
       "      <th></th>\n",
       "      <th>gender</th>\n",
       "      <th>age</th>\n",
       "      <th>topic</th>\n",
       "      <th>sign</th>\n",
       "      <th>text</th>\n",
       "      <th>clean_text</th>\n",
       "    </tr>\n",
       "  </thead>\n",
       "  <tbody>\n",
       "    <tr>\n",
       "      <th>0</th>\n",
       "      <td>male</td>\n",
       "      <td>15</td>\n",
       "      <td>Student</td>\n",
       "      <td>Leo</td>\n",
       "      <td>Info has been found (+/- 100 pages,...</td>\n",
       "      <td>info has been found pages and mb of pdf files ...</td>\n",
       "    </tr>\n",
       "    <tr>\n",
       "      <th>1</th>\n",
       "      <td>male</td>\n",
       "      <td>15</td>\n",
       "      <td>Student</td>\n",
       "      <td>Leo</td>\n",
       "      <td>These are the team members:   Drewe...</td>\n",
       "      <td>these are the team members drewes van der laag...</td>\n",
       "    </tr>\n",
       "    <tr>\n",
       "      <th>2</th>\n",
       "      <td>male</td>\n",
       "      <td>15</td>\n",
       "      <td>Student</td>\n",
       "      <td>Leo</td>\n",
       "      <td>In het kader van kernfusie op aarde...</td>\n",
       "      <td>in het kader van kernfusie op aarde maak je ei...</td>\n",
       "    </tr>\n",
       "    <tr>\n",
       "      <th>3</th>\n",
       "      <td>male</td>\n",
       "      <td>15</td>\n",
       "      <td>Student</td>\n",
       "      <td>Leo</td>\n",
       "      <td>testing!!!  testing!!!</td>\n",
       "      <td>testing testing</td>\n",
       "    </tr>\n",
       "    <tr>\n",
       "      <th>4</th>\n",
       "      <td>male</td>\n",
       "      <td>33</td>\n",
       "      <td>InvestmentBanking</td>\n",
       "      <td>Aquarius</td>\n",
       "      <td>Thanks to Yahoo!'s Toolbar I can ...</td>\n",
       "      <td>thanks to yahoo s toolbar i can now capture th...</td>\n",
       "    </tr>\n",
       "  </tbody>\n",
       "</table>\n",
       "</div>"
      ],
      "text/plain": [
       "  gender  ...                                         clean_text\n",
       "0   male  ...  info has been found pages and mb of pdf files ...\n",
       "1   male  ...  these are the team members drewes van der laag...\n",
       "2   male  ...  in het kader van kernfusie op aarde maak je ei...\n",
       "3   male  ...                                    testing testing\n",
       "4   male  ...  thanks to yahoo s toolbar i can now capture th...\n",
       "\n",
       "[5 rows x 6 columns]"
      ]
     },
     "execution_count": 118,
     "metadata": {},
     "output_type": "execute_result"
    }
   ],
   "source": [
    "Part1_df.head(5)"
   ]
  },
  {
   "cell_type": "markdown",
   "metadata": {
    "id": "gOuG36trpF9W"
   },
   "source": [
    "As we can see, clean text has no extra characters, numbers and upper cases. \n",
    "\n",
    "\n",
    "Lets just print one record & see."
   ]
  },
  {
   "cell_type": "code",
   "execution_count": null,
   "metadata": {
    "colab": {
     "base_uri": "https://localhost:8080/"
    },
    "id": "TRFt-c85pXv1",
    "outputId": "2e6523de-693a-4131-b6d5-2b1d10fdf842"
   },
   "outputs": [
    {
     "name": "stdout",
     "output_type": "stream",
     "text": [
      "           Info has been found (+/- 100 pages, and 4.5 MB of .pdf files) Now i have to wait untill our team leader has processed it and learns html.         \n"
     ]
    }
   ],
   "source": [
    "print(Part1_df['text'][0])"
   ]
  },
  {
   "cell_type": "code",
   "execution_count": null,
   "metadata": {
    "colab": {
     "base_uri": "https://localhost:8080/"
    },
    "id": "162ZvhyXpZj5",
    "outputId": "dca1dc7e-a143-46b6-cc63-9491639776a4"
   },
   "outputs": [
    {
     "name": "stdout",
     "output_type": "stream",
     "text": [
      "info has been found pages and mb of pdf files now i have to wait untill our team leader has processed it and learns html\n"
     ]
    }
   ],
   "source": [
    "print(Part1_df['clean_text'][0])"
   ]
  },
  {
   "cell_type": "code",
   "execution_count": null,
   "metadata": {
    "id": "l9m9cRMVZ3lz"
   },
   "outputs": [],
   "source": [
    "## Getting stop words from english language \n",
    "stop_words = set(stopwords.words('english'))"
   ]
  },
  {
   "cell_type": "code",
   "execution_count": null,
   "metadata": {
    "id": "QEHRwygwZ8Xs"
   },
   "outputs": [],
   "source": [
    "# Function to remove stopwords\n",
    "def remove_stopwords(text):\n",
    "    no_stopword_text = [w for w in text.split() if not w in stop_words]\n",
    "    return ' '.join(no_stopword_text)"
   ]
  },
  {
   "cell_type": "code",
   "execution_count": null,
   "metadata": {
    "id": "PsFt6sMrZ-Zr"
   },
   "outputs": [],
   "source": [
    "#calling the stop words function\n",
    "Part1_df['clean_text'] = Part1_df['clean_text'].apply(lambda x: remove_stopwords(x))"
   ]
  },
  {
   "cell_type": "code",
   "execution_count": null,
   "metadata": {
    "colab": {
     "base_uri": "https://localhost:8080/"
    },
    "id": "L-9_sVVsaATI",
    "outputId": "7f99b8a1-d344-4d8a-b447-5372375d450f"
   },
   "outputs": [
    {
     "name": "stdout",
     "output_type": "stream",
     "text": [
      "info found pages mb pdf files wait untill team leader processed learns html\n"
     ]
    }
   ],
   "source": [
    "#Before removing stop words: the sentence is :\n",
    "#info has been found pages and mb of pdf files now i have to wait untill our team leader has processed it and learns html\n",
    "print(Part1_df['clean_text'][0])"
   ]
  },
  {
   "cell_type": "markdown",
   "metadata": {
    "id": "jFJjSzqEAh2j"
   },
   "source": [
    "As we can see above, all the stop words in the sentence such as  has/been/and/the/of/now..etc are removed.\n",
    "\n"
   ]
  },
  {
   "cell_type": "markdown",
   "metadata": {
    "id": "ucEIEPm3BA10"
   },
   "source": [
    "###### Target/label merger and transformation"
   ]
  },
  {
   "cell_type": "code",
   "execution_count": null,
   "metadata": {
    "id": "fj4kiZCWaKNS"
   },
   "outputs": [],
   "source": [
    "#Declaring the label columns\n",
    "Part1_df['labels']=' '"
   ]
  },
  {
   "cell_type": "code",
   "execution_count": null,
   "metadata": {
    "id": "HOFNBnESaNPu"
   },
   "outputs": [],
   "source": [
    "# Lets extract the required key labels into one single column\n",
    "# Multi label classification\n",
    "for w in range(0,Part1_df.shape[0]):\n",
    "    blog_label=[]\n",
    "    blog_label.append(Part1_df['gender'][w])\n",
    "    blog_label.append(Part1_df['age'][w])\n",
    "    blog_label.append(Part1_df['topic'][w])\n",
    "    blog_label.append(Part1_df['sign'][w])\n",
    "    Part1_df['labels'][w]=blog_label"
   ]
  },
  {
   "cell_type": "code",
   "execution_count": null,
   "metadata": {
    "colab": {
     "base_uri": "https://localhost:8080/",
     "height": 206
    },
    "id": "hR-CyeQiaPPZ",
    "outputId": "b122dd19-c804-4c02-b92f-83e4e7715403"
   },
   "outputs": [
    {
     "data": {
      "text/html": [
       "<div>\n",
       "<style scoped>\n",
       "    .dataframe tbody tr th:only-of-type {\n",
       "        vertical-align: middle;\n",
       "    }\n",
       "\n",
       "    .dataframe tbody tr th {\n",
       "        vertical-align: top;\n",
       "    }\n",
       "\n",
       "    .dataframe thead th {\n",
       "        text-align: right;\n",
       "    }\n",
       "</style>\n",
       "<table border=\"1\" class=\"dataframe\">\n",
       "  <thead>\n",
       "    <tr style=\"text-align: right;\">\n",
       "      <th></th>\n",
       "      <th>gender</th>\n",
       "      <th>age</th>\n",
       "      <th>topic</th>\n",
       "      <th>sign</th>\n",
       "      <th>text</th>\n",
       "      <th>clean_text</th>\n",
       "      <th>labels</th>\n",
       "    </tr>\n",
       "  </thead>\n",
       "  <tbody>\n",
       "    <tr>\n",
       "      <th>0</th>\n",
       "      <td>male</td>\n",
       "      <td>15</td>\n",
       "      <td>Student</td>\n",
       "      <td>Leo</td>\n",
       "      <td>Info has been found (+/- 100 pages,...</td>\n",
       "      <td>info found pages mb pdf files wait untill team...</td>\n",
       "      <td>[male, 15, Student, Leo]</td>\n",
       "    </tr>\n",
       "    <tr>\n",
       "      <th>1</th>\n",
       "      <td>male</td>\n",
       "      <td>15</td>\n",
       "      <td>Student</td>\n",
       "      <td>Leo</td>\n",
       "      <td>These are the team members:   Drewe...</td>\n",
       "      <td>team members drewes van der laag urllink mail ...</td>\n",
       "      <td>[male, 15, Student, Leo]</td>\n",
       "    </tr>\n",
       "    <tr>\n",
       "      <th>2</th>\n",
       "      <td>male</td>\n",
       "      <td>15</td>\n",
       "      <td>Student</td>\n",
       "      <td>Leo</td>\n",
       "      <td>In het kader van kernfusie op aarde...</td>\n",
       "      <td>het kader van kernfusie op aarde maak je eigen...</td>\n",
       "      <td>[male, 15, Student, Leo]</td>\n",
       "    </tr>\n",
       "    <tr>\n",
       "      <th>3</th>\n",
       "      <td>male</td>\n",
       "      <td>15</td>\n",
       "      <td>Student</td>\n",
       "      <td>Leo</td>\n",
       "      <td>testing!!!  testing!!!</td>\n",
       "      <td>testing testing</td>\n",
       "      <td>[male, 15, Student, Leo]</td>\n",
       "    </tr>\n",
       "    <tr>\n",
       "      <th>4</th>\n",
       "      <td>male</td>\n",
       "      <td>33</td>\n",
       "      <td>InvestmentBanking</td>\n",
       "      <td>Aquarius</td>\n",
       "      <td>Thanks to Yahoo!'s Toolbar I can ...</td>\n",
       "      <td>thanks yahoo toolbar capture urls popups means...</td>\n",
       "      <td>[male, 33, InvestmentBanking, Aquarius]</td>\n",
       "    </tr>\n",
       "  </tbody>\n",
       "</table>\n",
       "</div>"
      ],
      "text/plain": [
       "  gender  ...                                   labels\n",
       "0   male  ...                 [male, 15, Student, Leo]\n",
       "1   male  ...                 [male, 15, Student, Leo]\n",
       "2   male  ...                 [male, 15, Student, Leo]\n",
       "3   male  ...                 [male, 15, Student, Leo]\n",
       "4   male  ...  [male, 33, InvestmentBanking, Aquarius]\n",
       "\n",
       "[5 rows x 7 columns]"
      ]
     },
     "execution_count": 127,
     "metadata": {},
     "output_type": "execute_result"
    }
   ],
   "source": [
    "#Lets just print the head\n",
    "Part1_df.head()"
   ]
  },
  {
   "cell_type": "markdown",
   "metadata": {
    "id": "ZORSdzuhB7oX"
   },
   "source": [
    "Cool, so since we merged Gender, Age, topic, sign into Labels. Lets drop these columns"
   ]
  },
  {
   "cell_type": "code",
   "execution_count": null,
   "metadata": {
    "colab": {
     "base_uri": "https://localhost:8080/",
     "height": 206
    },
    "id": "r0fJnZa5CLuz",
    "outputId": "2e742af1-75d1-4854-eeff-ec5fb2cf84fe"
   },
   "outputs": [
    {
     "data": {
      "text/html": [
       "<div>\n",
       "<style scoped>\n",
       "    .dataframe tbody tr th:only-of-type {\n",
       "        vertical-align: middle;\n",
       "    }\n",
       "\n",
       "    .dataframe tbody tr th {\n",
       "        vertical-align: top;\n",
       "    }\n",
       "\n",
       "    .dataframe thead th {\n",
       "        text-align: right;\n",
       "    }\n",
       "</style>\n",
       "<table border=\"1\" class=\"dataframe\">\n",
       "  <thead>\n",
       "    <tr style=\"text-align: right;\">\n",
       "      <th></th>\n",
       "      <th>clean_text</th>\n",
       "      <th>labels</th>\n",
       "    </tr>\n",
       "  </thead>\n",
       "  <tbody>\n",
       "    <tr>\n",
       "      <th>0</th>\n",
       "      <td>info found pages mb pdf files wait untill team...</td>\n",
       "      <td>[male, 15, Student, Leo]</td>\n",
       "    </tr>\n",
       "    <tr>\n",
       "      <th>1</th>\n",
       "      <td>team members drewes van der laag urllink mail ...</td>\n",
       "      <td>[male, 15, Student, Leo]</td>\n",
       "    </tr>\n",
       "    <tr>\n",
       "      <th>2</th>\n",
       "      <td>het kader van kernfusie op aarde maak je eigen...</td>\n",
       "      <td>[male, 15, Student, Leo]</td>\n",
       "    </tr>\n",
       "    <tr>\n",
       "      <th>3</th>\n",
       "      <td>testing testing</td>\n",
       "      <td>[male, 15, Student, Leo]</td>\n",
       "    </tr>\n",
       "    <tr>\n",
       "      <th>4</th>\n",
       "      <td>thanks yahoo toolbar capture urls popups means...</td>\n",
       "      <td>[male, 33, InvestmentBanking, Aquarius]</td>\n",
       "    </tr>\n",
       "  </tbody>\n",
       "</table>\n",
       "</div>"
      ],
      "text/plain": [
       "                                          clean_text                                   labels\n",
       "0  info found pages mb pdf files wait untill team...                 [male, 15, Student, Leo]\n",
       "1  team members drewes van der laag urllink mail ...                 [male, 15, Student, Leo]\n",
       "2  het kader van kernfusie op aarde maak je eigen...                 [male, 15, Student, Leo]\n",
       "3                                    testing testing                 [male, 15, Student, Leo]\n",
       "4  thanks yahoo toolbar capture urls popups means...  [male, 33, InvestmentBanking, Aquarius]"
      ]
     },
     "execution_count": 128,
     "metadata": {},
     "output_type": "execute_result"
    }
   ],
   "source": [
    "#Part1_df = Part1_df.drop(['gender','age','topic','sign'],axis=1)\n",
    "\n",
    "Part1_df = Part1_df[['clean_text','labels']]\n",
    "#Final dataset needed for the model\n",
    "Part1_df.head()"
   ]
  },
  {
   "cell_type": "code",
   "execution_count": null,
   "metadata": {
    "colab": {
     "base_uri": "https://localhost:8080/"
    },
    "id": "o4rCT4I-oTVJ",
    "outputId": "57cd7a73-7fe7-4852-9968-2821bd79a72e"
   },
   "outputs": [
    {
     "data": {
      "text/plain": [
       "array([list(['male', '15', 'Student', 'Leo']),\n",
       "       list(['male', '15', 'Student', 'Leo']),\n",
       "       list(['male', '15', 'Student', 'Leo']), ...,\n",
       "       list(['male', '23', 'Advertising', 'Taurus']),\n",
       "       list(['male', '23', 'Advertising', 'Taurus']),\n",
       "       list(['male', '23', 'Advertising', 'Taurus'])], dtype=object)"
      ]
     },
     "execution_count": 129,
     "metadata": {},
     "output_type": "execute_result"
    }
   ],
   "source": [
    "Part1_df['labels'].values"
   ]
  },
  {
   "cell_type": "markdown",
   "metadata": {
    "id": "bLSAmTSHC3Hy"
   },
   "source": [
    "#### Train and test split"
   ]
  },
  {
   "cell_type": "code",
   "execution_count": null,
   "metadata": {
    "id": "_UiA9xRPoVQN"
   },
   "outputs": [],
   "source": [
    "## Divide the features and labels into X and Y and split is done into train and test \n",
    "X = Part1_df['clean_text']\n",
    "y = Part1_df['labels']"
   ]
  },
  {
   "cell_type": "code",
   "execution_count": null,
   "metadata": {
    "id": "iyr312NCoX-E"
   },
   "outputs": [],
   "source": [
    "# Split dataset into training and test set before creating dtm using count vectorizer \n",
    "X_train, X_test, y_train, y_test = train_test_split(X, y, test_size=0.3, random_state=7)"
   ]
  },
  {
   "cell_type": "code",
   "execution_count": null,
   "metadata": {
    "colab": {
     "base_uri": "https://localhost:8080/"
    },
    "id": "RWj_F_xPG2FD",
    "outputId": "c1f92ad6-4fbc-4abf-ff48-8de39072e559"
   },
   "outputs": [
    {
     "name": "stdout",
     "output_type": "stream",
     "text": [
      "(35000,)\n",
      "(35000,)\n",
      "(15000,)\n",
      "(15000,)\n"
     ]
    }
   ],
   "source": [
    "print(X_train.shape)\n",
    "print(y_train.shape)\n",
    "print(X_test.shape)\n",
    "print(y_test.shape)"
   ]
  },
  {
   "cell_type": "code",
   "execution_count": null,
   "metadata": {
    "colab": {
     "base_uri": "https://localhost:8080/"
    },
    "id": "r_KgPGIVHYrH",
    "outputId": "5c04a96a-f5c2-4393-ffc5-8d14cc2fbd0a"
   },
   "outputs": [
    {
     "data": {
      "text/plain": [
       "29430    urllink wish could work friends landlord full ...\n",
       "27750    actually soph agree thats move page long roman...\n",
       "47782                                        welcome world\n",
       "10498    time discuss something architectural due recen...\n",
       "24747    running race really lapsed today spent cumulat...\n",
       "                               ...                        \n",
       "18878    received e mail minute ago former president li...\n",
       "44229    urllink eisenhower national historic site nati...\n",
       "41470    saw rej today like wow didnt know much missed ...\n",
       "36187    anybody else think elevated stands use gerunds...\n",
       "14571                                                 hmmm\n",
       "Name: clean_text, Length: 15000, dtype: object"
      ]
     },
     "execution_count": 133,
     "metadata": {},
     "output_type": "execute_result"
    }
   ],
   "source": [
    "X_test"
   ]
  },
  {
   "cell_type": "code",
   "execution_count": null,
   "metadata": {
    "colab": {
     "base_uri": "https://localhost:8080/"
    },
    "id": "nXHFjHnKHd_z",
    "outputId": "7e6254c1-35e2-4a94-af9d-c22ea64f5d97"
   },
   "outputs": [
    {
     "data": {
      "text/plain": [
       "29430           [male, 24, Chemicals, Libra]\n",
       "27750        [male, 16, indUnk, Sagittarius]\n",
       "47782       [female, 17, Student, Capricorn]\n",
       "10498       [male, 26, Architecture, Cancer]\n",
       "24747              [male, 24, indUnk, Aries]\n",
       "                        ...                 \n",
       "18878            [male, 26, Student, Pisces]\n",
       "44229        [male, 34, Education, Aquarius]\n",
       "41470          [female, 17, Fashion, Taurus]\n",
       "36187    [male, 23, Non-Profit, Sagittarius]\n",
       "14571              [male, 23, Internet, Leo]\n",
       "Name: labels, Length: 15000, dtype: object"
      ]
     },
     "execution_count": 134,
     "metadata": {},
     "output_type": "execute_result"
    }
   ],
   "source": [
    "y_test"
   ]
  },
  {
   "cell_type": "markdown",
   "metadata": {
    "id": "bR2Q0fIuI5i8"
   },
   "source": [
    "#### Vectorisation"
   ]
  },
  {
   "cell_type": "code",
   "execution_count": null,
   "metadata": {
    "id": "-ojb0WuEoeGX"
   },
   "outputs": [],
   "source": [
    "# Creating bag of words which include 1-grams and 2-gram\n",
    "cvect = CountVectorizer(ngram_range=(1,2))"
   ]
  },
  {
   "cell_type": "code",
   "execution_count": null,
   "metadata": {
    "id": "PSi7Gt8Cogyd"
   },
   "outputs": [],
   "source": [
    "# learn training data vocabulary, then use it to create a document-term matrix\n",
    "cvect.fit(X_train)\n",
    "\n",
    "X_train_dtm = cvect.transform(X_train)"
   ]
  },
  {
   "cell_type": "code",
   "execution_count": null,
   "metadata": {
    "colab": {
     "base_uri": "https://localhost:8080/"
    },
    "id": "OlaUWXoeJmAE",
    "outputId": "835fa36d-8781-418a-e145-1bfd6fa376f4"
   },
   "outputs": [
    {
     "data": {
      "text/plain": [
       "2218958"
      ]
     },
     "execution_count": 137,
     "metadata": {},
     "output_type": "execute_result"
    }
   ],
   "source": [
    "#Check the vocablury size\n",
    "len(cvect.vocabulary_)"
   ]
  },
  {
   "cell_type": "code",
   "execution_count": null,
   "metadata": {
    "colab": {
     "base_uri": "https://localhost:8080/"
    },
    "id": "3fCIDE-sJrvr",
    "outputId": "8c0a097d-6328-48d8-85cd-0fd0b25c40f4"
   },
   "outputs": [
    {
     "data": {
      "text/plain": [
       "['aa',\n",
       " 'aa aa',\n",
       " 'aa advert',\n",
       " 'aa amazing',\n",
       " 'aa batteries',\n",
       " 'aa class',\n",
       " 'aa ended',\n",
       " 'aa eriol',\n",
       " 'aa flights',\n",
       " 'aa forms',\n",
       " 'aa going',\n",
       " 'aa great',\n",
       " 'aa haha',\n",
       " 'aa htm',\n",
       " 'aa join']"
      ]
     },
     "execution_count": 138,
     "metadata": {},
     "output_type": "execute_result"
    }
   ],
   "source": [
    "cvect.get_feature_names()[:15]"
   ]
  },
  {
   "cell_type": "code",
   "execution_count": null,
   "metadata": {
    "colab": {
     "base_uri": "https://localhost:8080/"
    },
    "id": "ozRfntDBoiLU",
    "outputId": "49c63823-f25d-4dc1-d3dd-830a2742acee"
   },
   "outputs": [
    {
     "data": {
      "text/plain": [
       "<35000x2218958 sparse matrix of type '<class 'numpy.int64'>'\n",
       "\twith 6249872 stored elements in Compressed Sparse Row format>"
      ]
     },
     "execution_count": 139,
     "metadata": {},
     "output_type": "execute_result"
    }
   ],
   "source": [
    "# examin & print the document-term matrix\n",
    "X_train_dtm"
   ]
  },
  {
   "cell_type": "code",
   "execution_count": null,
   "metadata": {
    "colab": {
     "base_uri": "https://localhost:8080/"
    },
    "id": "BrvksJrfm_zg",
    "outputId": "cf12e3e3-856e-4f7a-bdf7-e3644c9463a0"
   },
   "outputs": [
    {
     "name": "stdout",
     "output_type": "stream",
     "text": [
      "  (0, 40750)\t1\n",
      "  (0, 40793)\t1\n",
      "  (0, 414724)\t1\n",
      "  (0, 414847)\t1\n",
      "  (0, 679520)\t1\n",
      "  (0, 681165)\t1\n",
      "  (0, 770318)\t1\n",
      "  (0, 770395)\t1\n",
      "  (0, 1188664)\t1\n",
      "  (0, 1189008)\t1\n",
      "  (0, 1574916)\t1\n",
      "  (0, 1574923)\t1\n",
      "  (0, 1672598)\t1\n",
      "  (0, 1672714)\t1\n",
      "  (0, 1744070)\t1\n",
      "  (0, 1744099)\t1\n",
      "  (0, 2049174)\t1\n",
      "  (0, 2049295)\t1\n",
      "  (0, 2079282)\t1\n",
      "  (0, 2079435)\t1\n",
      "  (0, 2102988)\t1\n",
      "  (1, 78294)\t1\n",
      "  (1, 78748)\t1\n",
      "  (1, 79991)\t1\n",
      "  (1, 80371)\t1\n",
      "  :\t:\n",
      "  (4, 1034665)\t1\n",
      "  (4, 1092536)\t1\n",
      "  (4, 1099821)\t1\n",
      "  (4, 1104794)\t1\n",
      "  (4, 1104973)\t1\n",
      "  (4, 1199078)\t1\n",
      "  (4, 1199107)\t1\n",
      "  (4, 1319506)\t1\n",
      "  (4, 1319700)\t1\n",
      "  (4, 1364766)\t1\n",
      "  (4, 1364869)\t1\n",
      "  (4, 1448298)\t1\n",
      "  (4, 1448325)\t1\n",
      "  (4, 1476538)\t1\n",
      "  (4, 1477429)\t1\n",
      "  (4, 1542103)\t1\n",
      "  (4, 1542143)\t1\n",
      "  (4, 1878360)\t1\n",
      "  (4, 1878372)\t1\n",
      "  (4, 1895917)\t1\n",
      "  (4, 1896455)\t1\n",
      "  (4, 2049174)\t1\n",
      "  (4, 2049507)\t1\n",
      "  (4, 2140372)\t1\n",
      "  (4, 2140428)\t1\n"
     ]
    }
   ],
   "source": [
    "print(X_train_dtm[:5])"
   ]
  },
  {
   "cell_type": "code",
   "execution_count": null,
   "metadata": {
    "id": "u6SUC_t0nQvx"
   },
   "outputs": [],
   "source": [
    "X_test_dtm = cvect.transform(X_test)"
   ]
  },
  {
   "cell_type": "code",
   "execution_count": null,
   "metadata": {
    "colab": {
     "base_uri": "https://localhost:8080/"
    },
    "id": "PByWkD6znT7l",
    "outputId": "5fbe66e9-b799-495b-8bf9-5ab378c338c1"
   },
   "outputs": [
    {
     "data": {
      "text/plain": [
       "<15000x2218958 sparse matrix of type '<class 'numpy.int64'>'\n",
       "\twith 1920675 stored elements in Compressed Sparse Row format>"
      ]
     },
     "execution_count": 142,
     "metadata": {},
     "output_type": "execute_result"
    }
   ],
   "source": [
    "# examine & print the document-term matrix\n",
    "X_test_dtm"
   ]
  },
  {
   "cell_type": "code",
   "execution_count": null,
   "metadata": {
    "colab": {
     "base_uri": "https://localhost:8080/"
    },
    "id": "4VB6p6UWpWdj",
    "outputId": "16482217-2920-468f-a1c9-22e0cec7af3d"
   },
   "outputs": [
    {
     "name": "stdout",
     "output_type": "stream",
     "text": [
      "  (0, 29020)\t1\n",
      "  (0, 85020)\t2\n",
      "  (0, 98461)\t5\n",
      "  (0, 98555)\t1\n",
      "  (0, 98959)\t1\n",
      "  (0, 99986)\t1\n",
      "  (0, 100998)\t1\n",
      "  (0, 101021)\t1\n",
      "  (0, 101878)\t1\n",
      "  (0, 106437)\t1\n",
      "  (0, 106496)\t1\n",
      "  (0, 110655)\t1\n",
      "  (0, 111343)\t1\n",
      "  (0, 127374)\t1\n",
      "  (0, 133712)\t2\n",
      "  (0, 137465)\t1\n",
      "  (0, 138939)\t1\n",
      "  (0, 139020)\t1\n",
      "  (0, 145206)\t1\n",
      "  (0, 145603)\t1\n",
      "  (0, 164827)\t1\n",
      "  (0, 170148)\t1\n",
      "  (0, 170610)\t1\n",
      "  (0, 217746)\t1\n",
      "  (0, 226438)\t1\n",
      "  :\t:\n",
      "  (4, 1803617)\t1\n",
      "  (4, 1825330)\t1\n",
      "  (4, 1875062)\t1\n",
      "  (4, 1875115)\t1\n",
      "  (4, 1914022)\t1\n",
      "  (4, 1935941)\t1\n",
      "  (4, 1938089)\t1\n",
      "  (4, 1938573)\t1\n",
      "  (4, 1941356)\t1\n",
      "  (4, 1959921)\t1\n",
      "  (4, 1961494)\t1\n",
      "  (4, 1971178)\t1\n",
      "  (4, 1973482)\t1\n",
      "  (4, 2000600)\t1\n",
      "  (4, 2046351)\t1\n",
      "  (4, 2049011)\t1\n",
      "  (4, 2068712)\t1\n",
      "  (4, 2074376)\t1\n",
      "  (4, 2077910)\t1\n",
      "  (4, 2110914)\t1\n",
      "  (4, 2111670)\t1\n",
      "  (4, 2111767)\t2\n",
      "  (4, 2113361)\t1\n",
      "  (4, 2114020)\t1\n",
      "  (4, 2158758)\t1\n"
     ]
    }
   ],
   "source": [
    "print(X_test_dtm[:5])"
   ]
  },
  {
   "cell_type": "code",
   "execution_count": null,
   "metadata": {
    "colab": {
     "base_uri": "https://localhost:8080/"
    },
    "id": "HSNx1SifpYbH",
    "outputId": "1ec29519-9754-40e8-c45b-7d497207e77d"
   },
   "outputs": [
    {
     "name": "stdout",
     "output_type": "stream",
     "text": [
      "(35000, 2218958)\n",
      "(15000, 2218958)\n"
     ]
    }
   ],
   "source": [
    "print(X_train_dtm.shape)\n",
    "print(X_test_dtm.shape)"
   ]
  },
  {
   "cell_type": "markdown",
   "metadata": {
    "id": "FY3t1t05LjMs"
   },
   "source": [
    "Create a dictionary to get the count of every label i.e. the key will be label name and value will be the total count of the label"
   ]
  },
  {
   "cell_type": "code",
   "execution_count": null,
   "metadata": {
    "id": "n6kfRZnJLuOD"
   },
   "outputs": [],
   "source": [
    "label_counts=dict()\n",
    "\n",
    "for labels in Part1_df.labels.values:\n",
    "    for label in labels:\n",
    "        if label in label_counts:\n",
    "            label_counts[str(label)]+=1\n",
    "        else:\n",
    "            label_counts[str(label)]=1"
   ]
  },
  {
   "cell_type": "code",
   "execution_count": null,
   "metadata": {
    "colab": {
     "base_uri": "https://localhost:8080/"
    },
    "id": "KofFyBp5L1Oc",
    "outputId": "3b033018-9801-436d-a270-1bf4be8f4f00"
   },
   "outputs": [
    {
     "data": {
      "text/plain": [
       "{'13': 745,\n",
       " '14': 2043,\n",
       " '15': 3508,\n",
       " '16': 4156,\n",
       " '17': 6859,\n",
       " '23': 5518,\n",
       " '24': 5746,\n",
       " '25': 2837,\n",
       " '26': 2869,\n",
       " '27': 4094,\n",
       " '33': 1654,\n",
       " '34': 1886,\n",
       " '35': 3365,\n",
       " '36': 1985,\n",
       " '37': 310,\n",
       " '38': 196,\n",
       " '39': 412,\n",
       " '40': 192,\n",
       " '41': 394,\n",
       " '42': 96,\n",
       " '43': 150,\n",
       " '44': 38,\n",
       " '45': 93,\n",
       " '46': 330,\n",
       " '47': 206,\n",
       " '48': 318,\n",
       " 'Accounting': 364,\n",
       " 'Advertising': 273,\n",
       " 'Agriculture': 78,\n",
       " 'Aquarius': 4784,\n",
       " 'Architecture': 70,\n",
       " 'Aries': 7795,\n",
       " 'Arts': 1817,\n",
       " 'Automotive': 116,\n",
       " 'Banking': 283,\n",
       " 'Biotech': 101,\n",
       " 'BusinessServices': 416,\n",
       " 'Cancer': 4589,\n",
       " 'Capricorn': 3819,\n",
       " 'Chemicals': 75,\n",
       " 'Communications-Media': 1603,\n",
       " 'Construction': 28,\n",
       " 'Consulting': 243,\n",
       " 'Education': 2646,\n",
       " 'Engineering': 1402,\n",
       " 'Environment': 6,\n",
       " 'Fashion': 1805,\n",
       " 'Gemini': 2558,\n",
       " 'Government': 599,\n",
       " 'HumanResources': 79,\n",
       " 'Internet': 1420,\n",
       " 'InvestmentBanking': 85,\n",
       " 'Law': 308,\n",
       " 'LawEnforcement-Security': 125,\n",
       " 'Leo': 3904,\n",
       " 'Libra': 4378,\n",
       " 'Manufacturing': 441,\n",
       " 'Maritime': 54,\n",
       " 'Marketing': 414,\n",
       " 'Military': 194,\n",
       " 'Museums-Libraries': 285,\n",
       " 'Non-Profit': 491,\n",
       " 'Pisces': 4142,\n",
       " 'Publishing': 207,\n",
       " 'RealEstate': 17,\n",
       " 'Religion': 258,\n",
       " 'Sagittarius': 4571,\n",
       " 'Science': 705,\n",
       " 'Scorpio': 3243,\n",
       " 'Sports-Recreation': 120,\n",
       " 'Student': 10660,\n",
       " 'Taurus': 3390,\n",
       " 'Technology': 4379,\n",
       " 'Telecommunications': 12,\n",
       " 'Tourism': 65,\n",
       " 'Transportation': 196,\n",
       " 'Virgo': 2827,\n",
       " 'female': 24185,\n",
       " 'indUnk': 17560,\n",
       " 'male': 25815}"
      ]
     },
     "execution_count": 146,
     "metadata": {},
     "output_type": "execute_result"
    }
   ],
   "source": [
    "label_counts"
   ]
  },
  {
   "cell_type": "markdown",
   "metadata": {
    "id": "rH-BmW5jMDIU"
   },
   "source": [
    "#### Transform the labels\n",
    "\n",
    "We need to transform labels in a binary form and the prediction will be a mask of 0s and 1s. For this purpose, it is convenient to convert your train and test labels using MultiLabelBinarizer"
   ]
  },
  {
   "cell_type": "code",
   "execution_count": null,
   "metadata": {
    "id": "CMFt2WreMWsj"
   },
   "outputs": [],
   "source": [
    "from sklearn.preprocessing import MultiLabelBinarizer\n",
    "binarizer=MultiLabelBinarizer(classes=sorted(label_counts.keys()))"
   ]
  },
  {
   "cell_type": "code",
   "execution_count": null,
   "metadata": {
    "colab": {
     "base_uri": "https://localhost:8080/"
    },
    "id": "WmHhs9rhpbLt",
    "outputId": "efef4a33-9540-4c11-d683-f2a73c588e53"
   },
   "outputs": [
    {
     "data": {
      "text/plain": [
       "array([[0, 0, 0, ..., 0, 0, 1],\n",
       "       [0, 0, 0, ..., 0, 1, 1],\n",
       "       [0, 0, 0, ..., 1, 0, 0],\n",
       "       ...,\n",
       "       [0, 0, 0, ..., 1, 0, 0],\n",
       "       [0, 0, 0, ..., 0, 0, 1],\n",
       "       [0, 0, 0, ..., 0, 0, 1]])"
      ]
     },
     "execution_count": 148,
     "metadata": {},
     "output_type": "execute_result"
    }
   ],
   "source": [
    "y_train = binarizer.fit_transform(y_train)\n",
    "y_test = binarizer.transform(y_test)\n",
    "y_test"
   ]
  },
  {
   "cell_type": "markdown",
   "metadata": {
    "id": "RvxXgPWPQb59"
   },
   "source": [
    "#1.3. Design, train, tune and test the best text classifier."
   ]
  },
  {
   "cell_type": "markdown",
   "metadata": {
    "id": "fq0YSeusNLEg"
   },
   "source": [
    "Let's use the One-vs-Rest approach, which is implemented in OneVsRestClassifier class. This is the most commonly used strategy for multiclass classification. In this approach k classifiers (= number of tags) are trained. As a basic classifier, let's use LogisticRegression."
   ]
  },
  {
   "cell_type": "code",
   "execution_count": null,
   "metadata": {
    "colab": {
     "base_uri": "https://localhost:8080/"
    },
    "id": "XILH_vI-NvO0",
    "outputId": "83f13d9a-52da-4416-c125-526420546215"
   },
   "outputs": [
    {
     "data": {
      "text/plain": [
       "OneVsRestClassifier(estimator=LogisticRegression())"
      ]
     },
     "execution_count": 82,
     "metadata": {},
     "output_type": "execute_result"
    }
   ],
   "source": [
    "model = LogisticRegression(solver='lbfgs', max_iter=100)\n",
    "model = OneVsRestClassifier(model)\n",
    "model.fit(X_train_dtm,y_train)"
   ]
  },
  {
   "cell_type": "code",
   "execution_count": null,
   "metadata": {
    "id": "bZaTdamLpusH"
   },
   "outputs": [],
   "source": [
    "## make predictions on test set\n",
    "y_pred_test = model.predict(X_test_dtm)"
   ]
  },
  {
   "cell_type": "code",
   "execution_count": null,
   "metadata": {
    "colab": {
     "base_uri": "https://localhost:8080/"
    },
    "id": "PMpoEZ4uRI-4",
    "outputId": "00ccc928-f0f1-4b7a-dfc1-52d6d1d86a8a"
   },
   "outputs": [
    {
     "data": {
      "text/plain": [
       "array([[0, 0, 0, ..., 1, 0, 0],\n",
       "       [0, 0, 0, ..., 0, 1, 1],\n",
       "       [0, 0, 0, ..., 0, 0, 1],\n",
       "       ...,\n",
       "       [0, 0, 0, ..., 0, 0, 1],\n",
       "       [0, 0, 0, ..., 1, 0, 0],\n",
       "       [0, 0, 0, ..., 0, 0, 1]])"
      ]
     },
     "execution_count": 86,
     "metadata": {},
     "output_type": "execute_result"
    }
   ],
   "source": [
    "y_pred_test"
   ]
  },
  {
   "cell_type": "markdown",
   "metadata": {
    "id": "sKbFiDRdW8sg"
   },
   "source": [
    "# 1.4. Display and explain detail the classification report"
   ]
  },
  {
   "cell_type": "markdown",
   "metadata": {
    "id": "GvJS3diLdmid"
   },
   "source": [
    "Classification Report explains below metrics.\n",
    "\n",
    " 1. **Accuracy score**\n",
    "      * a ratio of correctly predicted observation to the total observations.\n",
    " 2. **F1 Score**\n",
    "      * F1 Score is the weighted average of Precision and Recall\n",
    " 3. Average precision score.\n",
    "      * Macro averaged precision: calculate precision for all classes individually and then average them.\n",
    "      * Micro averaged precision: calculate class wise true positive and false positive and then use that to calculate overall precision.\n",
    "\n",
    " 4. Average recall score\n",
    "\n",
    "\n",
    "In genaral, \n",
    "\n",
    "**Precision** : the ratio of correctly predicted positive observations to the total predicted positive observations.\n",
    "\n",
    "**Recall** : the ratio of correctly predicted positive observations to the all observations in actual class - yes."
   ]
  },
  {
   "cell_type": "code",
   "execution_count": null,
   "metadata": {
    "colab": {
     "base_uri": "https://localhost:8080/"
    },
    "id": "E0gkQPELRK1M",
    "outputId": "b1358820-ad14-48b7-8889-e93f747c0d62"
   },
   "outputs": [
    {
     "data": {
      "text/plain": [
       "0.1368"
      ]
     },
     "execution_count": 87,
     "metadata": {},
     "output_type": "execute_result"
    }
   ],
   "source": [
    "## evaluating model performance via accuracy score\n",
    "accuracy_score(y_test, y_pred_test)"
   ]
  },
  {
   "cell_type": "code",
   "execution_count": null,
   "metadata": {
    "colab": {
     "base_uri": "https://localhost:8080/"
    },
    "id": "JMDSlhwBRNTZ",
    "outputId": "8f70cf64-c949-4a54-f399-0b2e9b430655"
   },
   "outputs": [
    {
     "data": {
      "text/plain": [
       "0.5099382689024123"
      ]
     },
     "execution_count": 88,
     "metadata": {},
     "output_type": "execute_result"
    }
   ],
   "source": [
    "## evaluating performance of the model using f1 score \n",
    "f1_score(y_test, y_pred_test,average='micro')"
   ]
  },
  {
   "cell_type": "code",
   "execution_count": null,
   "metadata": {
    "id": "lR_ypk0nf5RB"
   },
   "outputs": [],
   "source": [
    "#Lets define the functions through which we can explain in detail\n",
    "\n",
    "def display_metrics_micro(Ytest, Ypred):\n",
    "    print('Accuracy score: ', accuracy_score(Ytest, Ypred))\n",
    "    print('F1 score: Micro', f1_score(Ytest, Ypred, average='micro'))\n",
    "    print('Average precision score: Micro', average_precision_score(Ytest, Ypred, average='micro'))\n",
    "    print('Average recall score: Micro', recall_score(Ytest, Ypred, average='micro'))\n",
    "    \n",
    "    \n",
    "def display_metrics_macro(Ytest, Ypred):\n",
    "    print('Accuracy score: ', accuracy_score(Ytest, Ypred))\n",
    "    print('F1 score: Macro', f1_score(Ytest, Ypred, average='macro'))\n",
    "    print('Average recall score: MAcro', recall_score(Ytest, Ypred, average='macro'))\n",
    "    \n",
    "def display_metrics_weighted(Ytest, Ypred):\n",
    "    print('Accuracy score: ', accuracy_score(Ytest, Ypred))\n",
    "    print('F1 score: weighted', f1_score(Ytest, Ypred, average='weighted'))\n",
    "    print('Average precision score: weighted', average_precision_score(Ytest, Ypred, average='weighted'))\n",
    "    print('Average recall score: weighted', recall_score(Ytest, Ypred, average='weighted'))"
   ]
  },
  {
   "cell_type": "code",
   "execution_count": null,
   "metadata": {
    "colab": {
     "base_uri": "https://localhost:8080/"
    },
    "id": "WLib2SYOgBD1",
    "outputId": "790548e5-bde8-4cee-9a1b-2e4ef8fb0754"
   },
   "outputs": [
    {
     "name": "stdout",
     "output_type": "stream",
     "text": [
      "Accuracy score:  0.1368\n",
      "F1 score: Micro 0.5099382689024123\n",
      "Average precision score: Micro 0.3189526240275475\n",
      "Average recall score: Micro 0.38825\n"
     ]
    }
   ],
   "source": [
    "display_metrics_micro(y_test,y_pred_test)"
   ]
  },
  {
   "cell_type": "code",
   "execution_count": null,
   "metadata": {
    "colab": {
     "base_uri": "https://localhost:8080/"
    },
    "id": "WSrocUBpgF6l",
    "outputId": "dbb2927b-b7ef-477b-903d-27cecd6d022c"
   },
   "outputs": [
    {
     "name": "stdout",
     "output_type": "stream",
     "text": [
      "Accuracy score:  0.1368\n",
      "F1 score: Macro 0.26203586538724494\n",
      "Average recall score: MAcro 0.18032851721552834\n"
     ]
    }
   ],
   "source": [
    "display_metrics_macro(y_test,y_pred_test)"
   ]
  },
  {
   "cell_type": "code",
   "execution_count": null,
   "metadata": {
    "colab": {
     "base_uri": "https://localhost:8080/"
    },
    "id": "bnJWpaHtgGRV",
    "outputId": "daf3bc09-dd15-41a8-c3bd-083bf04f8eca"
   },
   "outputs": [
    {
     "name": "stdout",
     "output_type": "stream",
     "text": [
      "Accuracy score:  0.1368\n",
      "F1 score: weighted 0.4697518841901344\n",
      "Average precision score: weighted 0.3806597734444129\n",
      "Average recall score: weighted 0.38825\n"
     ]
    }
   ],
   "source": [
    "display_metrics_weighted(y_test,y_pred_test)"
   ]
  },
  {
   "cell_type": "markdown",
   "metadata": {
    "id": "JpCnz75ShA_I"
   },
   "source": [
    "Few observations here:\n",
    "\n",
    "- Metrics are not the best we expected it to be.\n",
    "- Our model is built on just 50k records, which is just less than 10% of our original dataset. This could a reason for underfitting.\n",
    "- The generality of multi-label problems inevitably makes it more difficult to learn. \n",
    "- An intuitive approach to solving multi-label problem is to decompose it into multiple independent binary classification problems (one per category).\n",
    "\n",
    "- In an “one-to-rest” strategy, one could build multiple independent classifiers and, for an unseen instance, choose the class for which the confidence is maximized.\n",
    "\n",
    "- The main assumption here is that the labels are mutually exclusive. You do not consider any underlying correlation between the classes in this method."
   ]
  },
  {
   "cell_type": "markdown",
   "metadata": {
    "id": "Ih5GYVpYXChs"
   },
   "source": [
    "#1.5. Print the true vs predicted labels for any 5 entries from the dataset."
   ]
  },
  {
   "cell_type": "code",
   "execution_count": null,
   "metadata": {
    "colab": {
     "base_uri": "https://localhost:8080/"
    },
    "id": "NUQWtsI1RVgo",
    "outputId": "beec9996-beea-4901-c363-1d3bb10f2600"
   },
   "outputs": [
    {
     "data": {
      "text/plain": [
       "array([[0, 0, 0, 0, 0, 0, 1, 0, 0, 0, 0, 0, 0, 0, 0, 0, 0, 0, 0, 0, 0, 0,\n",
       "        0, 0, 0, 0, 0, 0, 0, 0, 0, 0, 0, 0, 0, 0, 0, 0, 0, 1, 0, 0, 0, 0,\n",
       "        0, 0, 0, 0, 0, 0, 0, 0, 0, 0, 0, 1, 0, 0, 0, 0, 0, 0, 0, 0, 0, 0,\n",
       "        0, 0, 0, 0, 0, 0, 0, 0, 0, 0, 0, 0, 0, 1],\n",
       "       [0, 0, 0, 1, 0, 0, 0, 0, 0, 0, 0, 0, 0, 0, 0, 0, 0, 0, 0, 0, 0, 0,\n",
       "        0, 0, 0, 0, 0, 0, 0, 0, 0, 0, 0, 0, 0, 0, 0, 0, 0, 0, 0, 0, 0, 0,\n",
       "        0, 0, 0, 0, 0, 0, 0, 0, 0, 0, 0, 0, 0, 0, 0, 0, 0, 0, 0, 0, 0, 0,\n",
       "        1, 0, 0, 0, 0, 0, 0, 0, 0, 0, 0, 0, 1, 1],\n",
       "       [0, 0, 0, 0, 1, 0, 0, 0, 0, 0, 0, 0, 0, 0, 0, 0, 0, 0, 0, 0, 0, 0,\n",
       "        0, 0, 0, 0, 0, 0, 0, 0, 0, 0, 0, 0, 0, 0, 0, 0, 1, 0, 0, 0, 0, 0,\n",
       "        0, 0, 0, 0, 0, 0, 0, 0, 0, 0, 0, 0, 0, 0, 0, 0, 0, 0, 0, 0, 0, 0,\n",
       "        0, 0, 0, 0, 1, 0, 0, 0, 0, 0, 0, 1, 0, 0],\n",
       "       [0, 0, 0, 0, 0, 0, 0, 0, 1, 0, 0, 0, 0, 0, 0, 0, 0, 0, 0, 0, 0, 0,\n",
       "        0, 0, 0, 0, 0, 0, 0, 0, 1, 0, 0, 0, 0, 0, 0, 1, 0, 0, 0, 0, 0, 0,\n",
       "        0, 0, 0, 0, 0, 0, 0, 0, 0, 0, 0, 0, 0, 0, 0, 0, 0, 0, 0, 0, 0, 0,\n",
       "        0, 0, 0, 0, 0, 0, 0, 0, 0, 0, 0, 0, 0, 1],\n",
       "       [0, 0, 0, 0, 0, 0, 1, 0, 0, 0, 0, 0, 0, 0, 0, 0, 0, 0, 0, 0, 0, 0,\n",
       "        0, 0, 0, 0, 0, 0, 0, 0, 0, 1, 0, 0, 0, 0, 0, 0, 0, 0, 0, 0, 0, 0,\n",
       "        0, 0, 0, 0, 0, 0, 0, 0, 0, 0, 0, 0, 0, 0, 0, 0, 0, 0, 0, 0, 0, 0,\n",
       "        0, 0, 0, 0, 0, 0, 0, 0, 0, 0, 0, 0, 1, 1]])"
      ]
     },
     "execution_count": 101,
     "metadata": {},
     "output_type": "execute_result"
    }
   ],
   "source": [
    "y_test[0:5]"
   ]
  },
  {
   "cell_type": "code",
   "execution_count": null,
   "metadata": {
    "colab": {
     "base_uri": "https://localhost:8080/"
    },
    "id": "7vviwQ5Djvv9",
    "outputId": "44281dae-1156-40d7-f9ba-1b9f2152b3fb"
   },
   "outputs": [
    {
     "data": {
      "text/plain": [
       "array([[0, 0, 0, 0, 0, 0, 1, 0, 0, 0, 0, 0, 0, 0, 0, 0, 0, 0, 0, 0, 0, 0,\n",
       "        0, 0, 0, 0, 0, 0, 0, 0, 0, 0, 0, 0, 0, 0, 0, 0, 0, 0, 0, 0, 0, 0,\n",
       "        0, 0, 0, 0, 0, 0, 0, 0, 0, 0, 0, 0, 0, 0, 0, 0, 0, 0, 0, 0, 0, 0,\n",
       "        0, 0, 0, 0, 0, 0, 0, 0, 0, 0, 0, 1, 0, 0],\n",
       "       [0, 0, 0, 1, 0, 0, 0, 0, 0, 0, 0, 0, 0, 0, 0, 0, 0, 0, 0, 0, 0, 0,\n",
       "        0, 0, 0, 0, 0, 0, 0, 0, 0, 0, 0, 0, 0, 0, 0, 0, 0, 0, 0, 0, 0, 0,\n",
       "        0, 0, 0, 0, 0, 0, 0, 0, 0, 0, 0, 0, 0, 0, 0, 0, 0, 0, 0, 0, 0, 0,\n",
       "        1, 0, 0, 0, 0, 0, 0, 0, 0, 0, 0, 0, 1, 1],\n",
       "       [0, 0, 0, 0, 0, 0, 0, 0, 0, 0, 0, 0, 0, 0, 0, 0, 0, 0, 0, 0, 0, 0,\n",
       "        0, 0, 0, 0, 0, 0, 0, 0, 0, 0, 0, 0, 0, 0, 0, 0, 0, 0, 0, 0, 0, 0,\n",
       "        0, 0, 0, 0, 0, 0, 0, 0, 0, 0, 0, 0, 0, 0, 0, 0, 0, 0, 0, 0, 0, 0,\n",
       "        0, 0, 0, 0, 0, 0, 0, 0, 0, 0, 0, 0, 0, 1],\n",
       "       [0, 0, 0, 0, 0, 0, 0, 0, 0, 0, 0, 0, 0, 0, 0, 0, 0, 0, 0, 0, 0, 0,\n",
       "        0, 0, 0, 0, 0, 0, 0, 0, 0, 1, 0, 0, 0, 0, 0, 0, 0, 0, 0, 0, 0, 0,\n",
       "        0, 0, 0, 0, 0, 0, 0, 0, 0, 0, 0, 0, 0, 0, 0, 0, 0, 0, 0, 0, 0, 0,\n",
       "        0, 0, 0, 0, 0, 0, 0, 0, 0, 0, 0, 0, 0, 1],\n",
       "       [0, 0, 0, 0, 0, 0, 1, 0, 0, 0, 0, 0, 0, 0, 0, 0, 0, 0, 0, 0, 0, 0,\n",
       "        0, 0, 0, 0, 0, 0, 0, 0, 0, 0, 0, 0, 0, 0, 0, 0, 0, 0, 0, 0, 0, 0,\n",
       "        0, 0, 0, 0, 0, 0, 0, 0, 0, 0, 0, 0, 0, 0, 0, 0, 0, 0, 0, 0, 0, 0,\n",
       "        0, 0, 0, 0, 0, 0, 0, 0, 0, 0, 0, 1, 1, 0]])"
      ]
     },
     "execution_count": 103,
     "metadata": {},
     "output_type": "execute_result"
    }
   ],
   "source": [
    "y_pred_test[0:5]"
   ]
  },
  {
   "cell_type": "code",
   "execution_count": null,
   "metadata": {
    "id": "_gGQYvbiiDiG"
   },
   "outputs": [],
   "source": [
    "#Lets just walk through our predictions in detail\n",
    "def print_predicted(y_predicted, y_test = y_test , n = 5):\n",
    "    j = []\n",
    "    for i in range(n):\n",
    "        j.append(random.randint(0, len(y_test)))\n",
    "    print(j)\n",
    "                 \n",
    "    for k in j:\n",
    "        print(binarizer.inverse_transform(y_predicted)[k])\n",
    "        print(binarizer.inverse_transform(y_test)[k])\n",
    "        print(\"--------------------------------\")"
   ]
  },
  {
   "cell_type": "code",
   "execution_count": null,
   "metadata": {
    "colab": {
     "base_uri": "https://localhost:8080/"
    },
    "id": "ZTShLf3fiIoB",
    "outputId": "d1b9f829-f311-4020-9289-88829103804b"
   },
   "outputs": [
    {
     "name": "stdout",
     "output_type": "stream",
     "text": [
      "[8106, 2050, 7637, 9084, 6669, 6310, 5325, 13386, 12868, 2223]\n",
      "('35', 'Aries', 'Technology', 'male')\n",
      "('35', 'Aries', 'Technology', 'male')\n",
      "--------------------------------\n",
      "('male',)\n",
      "('27', 'Aquarius', 'Religion', 'male')\n",
      "--------------------------------\n",
      "('male',)\n",
      "('26', 'Pisces', 'Student', 'male')\n",
      "--------------------------------\n",
      "('male',)\n",
      "('48', 'Aries', 'Communications-Media', 'male')\n",
      "--------------------------------\n",
      "('female',)\n",
      "('35', 'Libra', 'female', 'indUnk')\n",
      "--------------------------------\n",
      "('Leo', 'female')\n",
      "('46', 'Leo', 'female', 'indUnk')\n",
      "--------------------------------\n",
      "('female',)\n",
      "('27', 'Aries', 'Communications-Media', 'female')\n",
      "--------------------------------\n",
      "('male',)\n",
      "('17', 'Non-Profit', 'Sagittarius', 'male')\n",
      "--------------------------------\n",
      "('17', 'Aquarius', 'female', 'indUnk')\n",
      "('17', 'Aquarius', 'female', 'indUnk')\n",
      "--------------------------------\n",
      "('female', 'indUnk')\n",
      "('16', 'Libra', 'female', 'indUnk')\n",
      "--------------------------------\n"
     ]
    }
   ],
   "source": [
    "print_predicted(y_predicted=y_pred_test,y_test=y_test, n= 10)"
   ]
  },
  {
   "cell_type": "code",
   "execution_count": null,
   "metadata": {
    "id": "-mZQ-gSl_2_v"
   },
   "outputs": [],
   "source": []
  },
  {
   "cell_type": "markdown",
   "metadata": {
    "id": "E9Mjra4MfhNJ"
   },
   "source": [
    "# PART-2"
   ]
  },
  {
   "cell_type": "markdown",
   "metadata": {
    "id": "-p3n-FiHbH6H"
   },
   "source": [
    "Design a python based interactive semi - rule based chatbot which can do the following:\n",
    "\n",
    "1. Start chat session with greetings and ask what the user is looking for.\n",
    "2. Accept dynamic text based questions from the user. Reply back with relevant answer from the designed corpus.\n",
    "3. End the chat session only if the user requests to end else ask what the user is looking for. Loop continues till the user asks to end it."
   ]
  },
  {
   "cell_type": "code",
   "execution_count": null,
   "metadata": {
    "colab": {
     "base_uri": "https://localhost:8080/"
    },
    "id": "NpYT1X3XUPFY",
    "outputId": "252360ce-c27b-402f-fddf-1554f267d57a"
   },
   "outputs": [
    {
     "name": "stdout",
     "output_type": "stream",
     "text": [
      "Collecting colorama\n",
      "  Downloading colorama-0.4.4-py2.py3-none-any.whl (16 kB)\n",
      "Installing collected packages: colorama\n",
      "Successfully installed colorama-0.4.4\n"
     ]
    }
   ],
   "source": [
    "!pip install colorama"
   ]
  },
  {
   "cell_type": "markdown",
   "metadata": {
    "id": "AM-7r33ucONr"
   },
   "source": [
    "Let's read the given json file contents here."
   ]
  },
  {
   "cell_type": "code",
   "execution_count": null,
   "metadata": {
    "id": "-HiCKuJJbqqI"
   },
   "outputs": [],
   "source": [
    "with open('./NLP1/GL Bot.json') as file:\n",
    "    data = json.load(file)"
   ]
  },
  {
   "cell_type": "markdown",
   "metadata": {
    "id": "N6GlR4USbtpF"
   },
   "source": [
    "Given json file has,\n",
    "\n",
    "- Tags - topic/subject of input would be.\n",
    "- patterns - the input query patterns\n",
    "- responses - respective single line response, that should be from the bot.\n",
    "- context set as null."
   ]
  },
  {
   "cell_type": "code",
   "execution_count": null,
   "metadata": {
    "id": "zSDP402IVDOd"
   },
   "outputs": [],
   "source": [
    "training_sentences = []\n",
    "training_labels = []\n",
    "labels = []\n",
    "responses = []\n",
    "\n",
    "\n",
    "for intent in data['intents']:\n",
    "    for pattern in intent['patterns']:\n",
    "        training_sentences.append(pattern)\n",
    "        training_labels.append(intent['tag'])\n",
    "    responses.append(intent['responses'])\n",
    "    \n",
    "    if intent['tag'] not in labels:\n",
    "        labels.append(intent['tag'])\n",
    "        \n",
    "num_classes = len(labels)"
   ]
  },
  {
   "cell_type": "code",
   "execution_count": null,
   "metadata": {
    "id": "xlFTl-tLVDKs"
   },
   "outputs": [],
   "source": [
    "#Label Encoding\n",
    "lbl_encoder = LabelEncoder()\n",
    "lbl_encoder.fit(training_labels)\n",
    "training_labels = lbl_encoder.transform(training_labels)"
   ]
  },
  {
   "cell_type": "code",
   "execution_count": null,
   "metadata": {
    "id": "qAxRsR4-VDH-"
   },
   "outputs": [],
   "source": [
    "#Tokenization\n",
    "vocab_size = 1000\n",
    "embedding_dim = 16\n",
    "max_len = 20\n",
    "oov_token = \"<OOV>\"\n",
    "\n",
    "tokenizer = Tokenizer(num_words=vocab_size, oov_token=oov_token)\n",
    "tokenizer.fit_on_texts(training_sentences)\n",
    "word_index = tokenizer.word_index\n",
    "sequences = tokenizer.texts_to_sequences(training_sentences)\n",
    "padded_sequences = pad_sequences(sequences, truncating='post', maxlen=max_len)"
   ]
  },
  {
   "cell_type": "code",
   "execution_count": null,
   "metadata": {
    "colab": {
     "base_uri": "https://localhost:8080/"
    },
    "id": "8cfQTbQoVDFM",
    "outputId": "6fb6ae33-5d5d-4f6f-df06-cebfac8a990d"
   },
   "outputs": [
    {
     "name": "stdout",
     "output_type": "stream",
     "text": [
      "Model: \"sequential_1\"\n",
      "_________________________________________________________________\n",
      " Layer (type)                Output Shape              Param #   \n",
      "=================================================================\n",
      " embedding_1 (Embedding)     (None, 20, 16)            16000     \n",
      "                                                                 \n",
      " global_average_pooling1d_1   (None, 16)               0         \n",
      " (GlobalAveragePooling1D)                                        \n",
      "                                                                 \n",
      " dense_3 (Dense)             (None, 16)                272       \n",
      "                                                                 \n",
      " dense_4 (Dense)             (None, 16)                272       \n",
      "                                                                 \n",
      " dense_5 (Dense)             (None, 8)                 136       \n",
      "                                                                 \n",
      "=================================================================\n",
      "Total params: 16,680\n",
      "Trainable params: 16,680\n",
      "Non-trainable params: 0\n",
      "_________________________________________________________________\n",
      "Epoch 1/500\n",
      "4/4 [==============================] - 1s 5ms/step - loss: 2.0782 - accuracy: 0.2344\n",
      "Epoch 2/500\n",
      "4/4 [==============================] - 0s 6ms/step - loss: 2.0743 - accuracy: 0.2266\n",
      "Epoch 3/500\n",
      "4/4 [==============================] - 0s 6ms/step - loss: 2.0713 - accuracy: 0.2266\n",
      "Epoch 4/500\n",
      "4/4 [==============================] - 0s 6ms/step - loss: 2.0678 - accuracy: 0.2266\n",
      "Epoch 5/500\n",
      "4/4 [==============================] - 0s 6ms/step - loss: 2.0642 - accuracy: 0.2266\n",
      "Epoch 6/500\n",
      "4/4 [==============================] - 0s 5ms/step - loss: 2.0604 - accuracy: 0.2266\n",
      "Epoch 7/500\n",
      "4/4 [==============================] - 0s 5ms/step - loss: 2.0561 - accuracy: 0.2266\n",
      "Epoch 8/500\n",
      "4/4 [==============================] - 0s 5ms/step - loss: 2.0520 - accuracy: 0.2266\n",
      "Epoch 9/500\n",
      "4/4 [==============================] - 0s 6ms/step - loss: 2.0473 - accuracy: 0.2266\n",
      "Epoch 10/500\n",
      "4/4 [==============================] - 0s 6ms/step - loss: 2.0421 - accuracy: 0.2266\n",
      "Epoch 11/500\n",
      "4/4 [==============================] - 0s 6ms/step - loss: 2.0375 - accuracy: 0.2266\n",
      "Epoch 12/500\n",
      "4/4 [==============================] - 0s 6ms/step - loss: 2.0316 - accuracy: 0.2266\n",
      "Epoch 13/500\n",
      "4/4 [==============================] - 0s 6ms/step - loss: 2.0262 - accuracy: 0.2266\n",
      "Epoch 14/500\n",
      "4/4 [==============================] - 0s 6ms/step - loss: 2.0204 - accuracy: 0.2266\n",
      "Epoch 15/500\n",
      "4/4 [==============================] - 0s 11ms/step - loss: 2.0142 - accuracy: 0.2266\n",
      "Epoch 16/500\n",
      "4/4 [==============================] - 0s 5ms/step - loss: 2.0074 - accuracy: 0.2266\n",
      "Epoch 17/500\n",
      "4/4 [==============================] - 0s 5ms/step - loss: 2.0019 - accuracy: 0.2266\n",
      "Epoch 18/500\n",
      "4/4 [==============================] - 0s 5ms/step - loss: 1.9954 - accuracy: 0.2266\n",
      "Epoch 19/500\n",
      "4/4 [==============================] - 0s 4ms/step - loss: 1.9899 - accuracy: 0.2266\n",
      "Epoch 20/500\n",
      "4/4 [==============================] - 0s 12ms/step - loss: 1.9830 - accuracy: 0.2266\n",
      "Epoch 21/500\n",
      "4/4 [==============================] - 0s 8ms/step - loss: 1.9787 - accuracy: 0.2266\n",
      "Epoch 22/500\n",
      "4/4 [==============================] - 0s 6ms/step - loss: 1.9734 - accuracy: 0.2266\n",
      "Epoch 23/500\n",
      "4/4 [==============================] - 0s 10ms/step - loss: 1.9670 - accuracy: 0.2266\n",
      "Epoch 24/500\n",
      "4/4 [==============================] - 0s 7ms/step - loss: 1.9616 - accuracy: 0.2266\n",
      "Epoch 25/500\n",
      "4/4 [==============================] - 0s 5ms/step - loss: 1.9567 - accuracy: 0.2266\n",
      "Epoch 26/500\n",
      "4/4 [==============================] - 0s 6ms/step - loss: 1.9508 - accuracy: 0.2266\n",
      "Epoch 27/500\n",
      "4/4 [==============================] - 0s 5ms/step - loss: 1.9458 - accuracy: 0.2266\n",
      "Epoch 28/500\n",
      "4/4 [==============================] - 0s 6ms/step - loss: 1.9401 - accuracy: 0.2266\n",
      "Epoch 29/500\n",
      "4/4 [==============================] - 0s 5ms/step - loss: 1.9338 - accuracy: 0.2266\n",
      "Epoch 30/500\n",
      "4/4 [==============================] - 0s 7ms/step - loss: 1.9280 - accuracy: 0.2266\n",
      "Epoch 31/500\n",
      "4/4 [==============================] - 0s 5ms/step - loss: 1.9222 - accuracy: 0.2266\n",
      "Epoch 32/500\n",
      "4/4 [==============================] - 0s 5ms/step - loss: 1.9152 - accuracy: 0.2266\n",
      "Epoch 33/500\n",
      "4/4 [==============================] - 0s 4ms/step - loss: 1.9082 - accuracy: 0.2266\n",
      "Epoch 34/500\n",
      "4/4 [==============================] - 0s 6ms/step - loss: 1.9017 - accuracy: 0.2266\n",
      "Epoch 35/500\n",
      "4/4 [==============================] - 0s 5ms/step - loss: 1.8943 - accuracy: 0.2266\n",
      "Epoch 36/500\n",
      "4/4 [==============================] - 0s 5ms/step - loss: 1.8865 - accuracy: 0.2266\n",
      "Epoch 37/500\n",
      "4/4 [==============================] - 0s 5ms/step - loss: 1.8785 - accuracy: 0.2266\n",
      "Epoch 38/500\n",
      "4/4 [==============================] - 0s 10ms/step - loss: 1.8700 - accuracy: 0.2266\n",
      "Epoch 39/500\n",
      "4/4 [==============================] - 0s 13ms/step - loss: 1.8613 - accuracy: 0.2266\n",
      "Epoch 40/500\n",
      "4/4 [==============================] - 0s 6ms/step - loss: 1.8523 - accuracy: 0.2266\n",
      "Epoch 41/500\n",
      "4/4 [==============================] - 0s 8ms/step - loss: 1.8435 - accuracy: 0.2266\n",
      "Epoch 42/500\n",
      "4/4 [==============================] - 0s 8ms/step - loss: 1.8336 - accuracy: 0.2266\n",
      "Epoch 43/500\n",
      "4/4 [==============================] - 0s 6ms/step - loss: 1.8235 - accuracy: 0.2266\n",
      "Epoch 44/500\n",
      "4/4 [==============================] - 0s 11ms/step - loss: 1.8125 - accuracy: 0.2344\n",
      "Epoch 45/500\n",
      "4/4 [==============================] - 0s 5ms/step - loss: 1.8033 - accuracy: 0.2422\n",
      "Epoch 46/500\n",
      "4/4 [==============================] - 0s 5ms/step - loss: 1.7923 - accuracy: 0.2578\n",
      "Epoch 47/500\n",
      "4/4 [==============================] - 0s 9ms/step - loss: 1.7810 - accuracy: 0.2656\n",
      "Epoch 48/500\n",
      "4/4 [==============================] - 0s 9ms/step - loss: 1.7690 - accuracy: 0.2656\n",
      "Epoch 49/500\n",
      "4/4 [==============================] - 0s 9ms/step - loss: 1.7584 - accuracy: 0.2656\n",
      "Epoch 50/500\n",
      "4/4 [==============================] - 0s 6ms/step - loss: 1.7475 - accuracy: 0.2734\n",
      "Epoch 51/500\n",
      "4/4 [==============================] - 0s 6ms/step - loss: 1.7360 - accuracy: 0.2969\n",
      "Epoch 52/500\n",
      "4/4 [==============================] - 0s 10ms/step - loss: 1.7260 - accuracy: 0.2969\n",
      "Epoch 53/500\n",
      "4/4 [==============================] - 0s 6ms/step - loss: 1.7149 - accuracy: 0.2969\n",
      "Epoch 54/500\n",
      "4/4 [==============================] - 0s 11ms/step - loss: 1.7039 - accuracy: 0.2969\n",
      "Epoch 55/500\n",
      "4/4 [==============================] - 0s 7ms/step - loss: 1.6929 - accuracy: 0.2969\n",
      "Epoch 56/500\n",
      "4/4 [==============================] - 0s 5ms/step - loss: 1.6828 - accuracy: 0.2969\n",
      "Epoch 57/500\n",
      "4/4 [==============================] - 0s 5ms/step - loss: 1.6727 - accuracy: 0.3047\n",
      "Epoch 58/500\n",
      "4/4 [==============================] - 0s 5ms/step - loss: 1.6617 - accuracy: 0.3203\n",
      "Epoch 59/500\n",
      "4/4 [==============================] - 0s 5ms/step - loss: 1.6516 - accuracy: 0.3203\n",
      "Epoch 60/500\n",
      "4/4 [==============================] - 0s 5ms/step - loss: 1.6409 - accuracy: 0.3203\n",
      "Epoch 61/500\n",
      "4/4 [==============================] - 0s 4ms/step - loss: 1.6309 - accuracy: 0.3125\n",
      "Epoch 62/500\n",
      "4/4 [==============================] - 0s 5ms/step - loss: 1.6215 - accuracy: 0.3281\n",
      "Epoch 63/500\n",
      "4/4 [==============================] - 0s 5ms/step - loss: 1.6120 - accuracy: 0.3203\n",
      "Epoch 64/500\n",
      "4/4 [==============================] - 0s 5ms/step - loss: 1.6013 - accuracy: 0.3438\n",
      "Epoch 65/500\n",
      "4/4 [==============================] - 0s 13ms/step - loss: 1.5911 - accuracy: 0.3516\n",
      "Epoch 66/500\n",
      "4/4 [==============================] - 0s 8ms/step - loss: 1.5814 - accuracy: 0.3594\n",
      "Epoch 67/500\n",
      "4/4 [==============================] - 0s 7ms/step - loss: 1.5725 - accuracy: 0.3750\n",
      "Epoch 68/500\n",
      "4/4 [==============================] - 0s 6ms/step - loss: 1.5633 - accuracy: 0.3750\n",
      "Epoch 69/500\n",
      "4/4 [==============================] - 0s 14ms/step - loss: 1.5535 - accuracy: 0.3750\n",
      "Epoch 70/500\n",
      "4/4 [==============================] - 0s 12ms/step - loss: 1.5446 - accuracy: 0.3750\n",
      "Epoch 71/500\n",
      "4/4 [==============================] - 0s 5ms/step - loss: 1.5360 - accuracy: 0.3750\n",
      "Epoch 72/500\n",
      "4/4 [==============================] - 0s 9ms/step - loss: 1.5258 - accuracy: 0.3750\n",
      "Epoch 73/500\n",
      "4/4 [==============================] - 0s 9ms/step - loss: 1.5167 - accuracy: 0.3750\n",
      "Epoch 74/500\n",
      "4/4 [==============================] - 0s 13ms/step - loss: 1.5078 - accuracy: 0.3750\n",
      "Epoch 75/500\n",
      "4/4 [==============================] - 0s 9ms/step - loss: 1.4998 - accuracy: 0.3750\n",
      "Epoch 76/500\n",
      "4/4 [==============================] - 0s 9ms/step - loss: 1.4899 - accuracy: 0.3750\n",
      "Epoch 77/500\n",
      "4/4 [==============================] - 0s 8ms/step - loss: 1.4808 - accuracy: 0.3750\n",
      "Epoch 78/500\n",
      "4/4 [==============================] - 0s 11ms/step - loss: 1.4699 - accuracy: 0.3750\n",
      "Epoch 79/500\n",
      "4/4 [==============================] - 0s 13ms/step - loss: 1.4578 - accuracy: 0.3750\n",
      "Epoch 80/500\n",
      "4/4 [==============================] - 0s 11ms/step - loss: 1.4472 - accuracy: 0.3750\n",
      "Epoch 81/500\n",
      "4/4 [==============================] - 0s 11ms/step - loss: 1.4383 - accuracy: 0.3750\n",
      "Epoch 82/500\n",
      "4/4 [==============================] - 0s 9ms/step - loss: 1.4282 - accuracy: 0.3750\n",
      "Epoch 83/500\n",
      "4/4 [==============================] - 0s 10ms/step - loss: 1.4190 - accuracy: 0.3828\n",
      "Epoch 84/500\n",
      "4/4 [==============================] - 0s 12ms/step - loss: 1.4089 - accuracy: 0.3906\n",
      "Epoch 85/500\n",
      "4/4 [==============================] - 0s 8ms/step - loss: 1.3985 - accuracy: 0.3906\n",
      "Epoch 86/500\n",
      "4/4 [==============================] - 0s 7ms/step - loss: 1.3896 - accuracy: 0.3906\n",
      "Epoch 87/500\n",
      "4/4 [==============================] - 0s 8ms/step - loss: 1.3801 - accuracy: 0.3906\n",
      "Epoch 88/500\n",
      "4/4 [==============================] - 0s 7ms/step - loss: 1.3710 - accuracy: 0.3906\n",
      "Epoch 89/500\n",
      "4/4 [==============================] - 0s 4ms/step - loss: 1.3620 - accuracy: 0.3906\n",
      "Epoch 90/500\n",
      "4/4 [==============================] - 0s 5ms/step - loss: 1.3518 - accuracy: 0.3984\n",
      "Epoch 91/500\n",
      "4/4 [==============================] - 0s 5ms/step - loss: 1.3431 - accuracy: 0.4141\n",
      "Epoch 92/500\n",
      "4/4 [==============================] - 0s 5ms/step - loss: 1.3327 - accuracy: 0.4219\n",
      "Epoch 93/500\n",
      "4/4 [==============================] - 0s 8ms/step - loss: 1.3237 - accuracy: 0.4219\n",
      "Epoch 94/500\n",
      "4/4 [==============================] - 0s 5ms/step - loss: 1.3139 - accuracy: 0.4219\n",
      "Epoch 95/500\n",
      "4/4 [==============================] - 0s 5ms/step - loss: 1.3043 - accuracy: 0.4375\n",
      "Epoch 96/500\n",
      "4/4 [==============================] - 0s 8ms/step - loss: 1.2946 - accuracy: 0.4375\n",
      "Epoch 97/500\n",
      "4/4 [==============================] - 0s 5ms/step - loss: 1.2849 - accuracy: 0.4531\n",
      "Epoch 98/500\n",
      "4/4 [==============================] - 0s 5ms/step - loss: 1.2745 - accuracy: 0.4531\n",
      "Epoch 99/500\n",
      "4/4 [==============================] - 0s 5ms/step - loss: 1.2652 - accuracy: 0.4531\n",
      "Epoch 100/500\n",
      "4/4 [==============================] - 0s 5ms/step - loss: 1.2554 - accuracy: 0.4609\n",
      "Epoch 101/500\n",
      "4/4 [==============================] - 0s 12ms/step - loss: 1.2447 - accuracy: 0.4609\n",
      "Epoch 102/500\n",
      "4/4 [==============================] - 0s 11ms/step - loss: 1.2347 - accuracy: 0.4609\n",
      "Epoch 103/500\n",
      "4/4 [==============================] - 0s 11ms/step - loss: 1.2257 - accuracy: 0.4609\n",
      "Epoch 104/500\n",
      "4/4 [==============================] - 0s 5ms/step - loss: 1.2150 - accuracy: 0.4922\n",
      "Epoch 105/500\n",
      "4/4 [==============================] - 0s 5ms/step - loss: 1.2050 - accuracy: 0.5000\n",
      "Epoch 106/500\n",
      "4/4 [==============================] - 0s 5ms/step - loss: 1.1952 - accuracy: 0.5000\n",
      "Epoch 107/500\n",
      "4/4 [==============================] - 0s 6ms/step - loss: 1.1853 - accuracy: 0.5078\n",
      "Epoch 108/500\n",
      "4/4 [==============================] - 0s 7ms/step - loss: 1.1751 - accuracy: 0.5156\n",
      "Epoch 109/500\n",
      "4/4 [==============================] - 0s 6ms/step - loss: 1.1659 - accuracy: 0.5469\n",
      "Epoch 110/500\n",
      "4/4 [==============================] - 0s 6ms/step - loss: 1.1550 - accuracy: 0.5625\n",
      "Epoch 111/500\n",
      "4/4 [==============================] - 0s 6ms/step - loss: 1.1456 - accuracy: 0.5703\n",
      "Epoch 112/500\n",
      "4/4 [==============================] - 0s 9ms/step - loss: 1.1358 - accuracy: 0.5703\n",
      "Epoch 113/500\n",
      "4/4 [==============================] - 0s 5ms/step - loss: 1.1259 - accuracy: 0.5859\n",
      "Epoch 114/500\n",
      "4/4 [==============================] - 0s 5ms/step - loss: 1.1162 - accuracy: 0.5938\n",
      "Epoch 115/500\n",
      "4/4 [==============================] - 0s 5ms/step - loss: 1.1061 - accuracy: 0.5938\n",
      "Epoch 116/500\n",
      "4/4 [==============================] - 0s 6ms/step - loss: 1.0965 - accuracy: 0.6016\n",
      "Epoch 117/500\n",
      "4/4 [==============================] - 0s 5ms/step - loss: 1.0870 - accuracy: 0.6016\n",
      "Epoch 118/500\n",
      "4/4 [==============================] - 0s 5ms/step - loss: 1.0774 - accuracy: 0.6016\n",
      "Epoch 119/500\n",
      "4/4 [==============================] - 0s 5ms/step - loss: 1.0676 - accuracy: 0.5938\n",
      "Epoch 120/500\n",
      "4/4 [==============================] - 0s 6ms/step - loss: 1.0576 - accuracy: 0.5938\n",
      "Epoch 121/500\n",
      "4/4 [==============================] - 0s 5ms/step - loss: 1.0481 - accuracy: 0.5938\n",
      "Epoch 122/500\n",
      "4/4 [==============================] - 0s 7ms/step - loss: 1.0389 - accuracy: 0.6016\n",
      "Epoch 123/500\n",
      "4/4 [==============================] - 0s 5ms/step - loss: 1.0286 - accuracy: 0.6016\n",
      "Epoch 124/500\n",
      "4/4 [==============================] - 0s 7ms/step - loss: 1.0185 - accuracy: 0.6016\n",
      "Epoch 125/500\n",
      "4/4 [==============================] - 0s 6ms/step - loss: 1.0083 - accuracy: 0.6016\n",
      "Epoch 126/500\n",
      "4/4 [==============================] - 0s 6ms/step - loss: 0.9992 - accuracy: 0.6250\n",
      "Epoch 127/500\n",
      "4/4 [==============================] - 0s 12ms/step - loss: 0.9886 - accuracy: 0.6719\n",
      "Epoch 128/500\n",
      "4/4 [==============================] - 0s 11ms/step - loss: 0.9791 - accuracy: 0.6641\n",
      "Epoch 129/500\n",
      "4/4 [==============================] - 0s 10ms/step - loss: 0.9686 - accuracy: 0.6094\n",
      "Epoch 130/500\n",
      "4/4 [==============================] - 0s 7ms/step - loss: 0.9588 - accuracy: 0.6172\n",
      "Epoch 131/500\n",
      "4/4 [==============================] - 0s 7ms/step - loss: 0.9482 - accuracy: 0.6484\n",
      "Epoch 132/500\n",
      "4/4 [==============================] - 0s 6ms/step - loss: 0.9380 - accuracy: 0.6797\n",
      "Epoch 133/500\n",
      "4/4 [==============================] - 0s 10ms/step - loss: 0.9279 - accuracy: 0.6797\n",
      "Epoch 134/500\n",
      "4/4 [==============================] - 0s 7ms/step - loss: 0.9176 - accuracy: 0.6797\n",
      "Epoch 135/500\n",
      "4/4 [==============================] - 0s 5ms/step - loss: 0.9076 - accuracy: 0.6797\n",
      "Epoch 136/500\n",
      "4/4 [==============================] - 0s 5ms/step - loss: 0.8969 - accuracy: 0.6797\n",
      "Epoch 137/500\n",
      "4/4 [==============================] - 0s 5ms/step - loss: 0.8870 - accuracy: 0.6953\n",
      "Epoch 138/500\n",
      "4/4 [==============================] - 0s 5ms/step - loss: 0.8769 - accuracy: 0.6953\n",
      "Epoch 139/500\n",
      "4/4 [==============================] - 0s 4ms/step - loss: 0.8672 - accuracy: 0.7031\n",
      "Epoch 140/500\n",
      "4/4 [==============================] - 0s 5ms/step - loss: 0.8556 - accuracy: 0.7109\n",
      "Epoch 141/500\n",
      "4/4 [==============================] - 0s 5ms/step - loss: 0.8461 - accuracy: 0.7109\n",
      "Epoch 142/500\n",
      "4/4 [==============================] - 0s 5ms/step - loss: 0.8364 - accuracy: 0.7188\n",
      "Epoch 143/500\n",
      "4/4 [==============================] - 0s 10ms/step - loss: 0.8258 - accuracy: 0.7188\n",
      "Epoch 144/500\n",
      "4/4 [==============================] - 0s 9ms/step - loss: 0.8160 - accuracy: 0.7266\n",
      "Epoch 145/500\n",
      "4/4 [==============================] - 0s 5ms/step - loss: 0.8062 - accuracy: 0.7266\n",
      "Epoch 146/500\n",
      "4/4 [==============================] - 0s 5ms/step - loss: 0.7960 - accuracy: 0.7422\n",
      "Epoch 147/500\n",
      "4/4 [==============================] - 0s 6ms/step - loss: 0.7867 - accuracy: 0.7500\n",
      "Epoch 148/500\n",
      "4/4 [==============================] - 0s 5ms/step - loss: 0.7769 - accuracy: 0.7578\n",
      "Epoch 149/500\n",
      "4/4 [==============================] - 0s 5ms/step - loss: 0.7664 - accuracy: 0.7656\n",
      "Epoch 150/500\n",
      "4/4 [==============================] - 0s 6ms/step - loss: 0.7559 - accuracy: 0.7656\n",
      "Epoch 151/500\n",
      "4/4 [==============================] - 0s 10ms/step - loss: 0.7462 - accuracy: 0.7656\n",
      "Epoch 152/500\n",
      "4/4 [==============================] - 0s 9ms/step - loss: 0.7371 - accuracy: 0.7656\n",
      "Epoch 153/500\n",
      "4/4 [==============================] - 0s 5ms/step - loss: 0.7266 - accuracy: 0.7656\n",
      "Epoch 154/500\n",
      "4/4 [==============================] - 0s 5ms/step - loss: 0.7174 - accuracy: 0.7656\n",
      "Epoch 155/500\n",
      "4/4 [==============================] - 0s 5ms/step - loss: 0.7060 - accuracy: 0.7656\n",
      "Epoch 156/500\n",
      "4/4 [==============================] - 0s 5ms/step - loss: 0.6992 - accuracy: 0.7656\n",
      "Epoch 157/500\n",
      "4/4 [==============================] - 0s 8ms/step - loss: 0.6872 - accuracy: 0.7812\n",
      "Epoch 158/500\n",
      "4/4 [==============================] - 0s 5ms/step - loss: 0.6781 - accuracy: 0.7812\n",
      "Epoch 159/500\n",
      "4/4 [==============================] - 0s 5ms/step - loss: 0.6680 - accuracy: 0.7812\n",
      "Epoch 160/500\n",
      "4/4 [==============================] - 0s 5ms/step - loss: 0.6603 - accuracy: 0.7891\n",
      "Epoch 161/500\n",
      "4/4 [==============================] - 0s 5ms/step - loss: 0.6498 - accuracy: 0.7812\n",
      "Epoch 162/500\n",
      "4/4 [==============================] - 0s 6ms/step - loss: 0.6403 - accuracy: 0.7812\n",
      "Epoch 163/500\n",
      "4/4 [==============================] - 0s 6ms/step - loss: 0.6313 - accuracy: 0.7812\n",
      "Epoch 164/500\n",
      "4/4 [==============================] - 0s 8ms/step - loss: 0.6219 - accuracy: 0.7969\n",
      "Epoch 165/500\n",
      "4/4 [==============================] - 0s 14ms/step - loss: 0.6137 - accuracy: 0.7969\n",
      "Epoch 166/500\n",
      "4/4 [==============================] - 0s 11ms/step - loss: 0.6045 - accuracy: 0.8047\n",
      "Epoch 167/500\n",
      "4/4 [==============================] - 0s 5ms/step - loss: 0.5957 - accuracy: 0.8125\n",
      "Epoch 168/500\n",
      "4/4 [==============================] - 0s 13ms/step - loss: 0.5870 - accuracy: 0.8125\n",
      "Epoch 169/500\n",
      "4/4 [==============================] - 0s 8ms/step - loss: 0.5784 - accuracy: 0.8047\n",
      "Epoch 170/500\n",
      "4/4 [==============================] - 0s 6ms/step - loss: 0.5696 - accuracy: 0.8203\n",
      "Epoch 171/500\n",
      "4/4 [==============================] - 0s 8ms/step - loss: 0.5610 - accuracy: 0.8203\n",
      "Epoch 172/500\n",
      "4/4 [==============================] - 0s 5ms/step - loss: 0.5542 - accuracy: 0.8125\n",
      "Epoch 173/500\n",
      "4/4 [==============================] - 0s 6ms/step - loss: 0.5455 - accuracy: 0.8203\n",
      "Epoch 174/500\n",
      "4/4 [==============================] - 0s 7ms/step - loss: 0.5378 - accuracy: 0.8281\n",
      "Epoch 175/500\n",
      "4/4 [==============================] - 0s 5ms/step - loss: 0.5291 - accuracy: 0.8438\n",
      "Epoch 176/500\n",
      "4/4 [==============================] - 0s 5ms/step - loss: 0.5213 - accuracy: 0.8516\n",
      "Epoch 177/500\n",
      "4/4 [==============================] - 0s 5ms/step - loss: 0.5136 - accuracy: 0.8438\n",
      "Epoch 178/500\n",
      "4/4 [==============================] - 0s 6ms/step - loss: 0.5057 - accuracy: 0.8516\n",
      "Epoch 179/500\n",
      "4/4 [==============================] - 0s 5ms/step - loss: 0.4995 - accuracy: 0.8516\n",
      "Epoch 180/500\n",
      "4/4 [==============================] - 0s 6ms/step - loss: 0.4909 - accuracy: 0.8750\n",
      "Epoch 181/500\n",
      "4/4 [==============================] - 0s 5ms/step - loss: 0.4848 - accuracy: 0.8672\n",
      "Epoch 182/500\n",
      "4/4 [==============================] - 0s 5ms/step - loss: 0.4759 - accuracy: 0.8672\n",
      "Epoch 183/500\n",
      "4/4 [==============================] - 0s 6ms/step - loss: 0.4679 - accuracy: 0.8984\n",
      "Epoch 184/500\n",
      "4/4 [==============================] - 0s 6ms/step - loss: 0.4620 - accuracy: 0.9219\n",
      "Epoch 185/500\n",
      "4/4 [==============================] - 0s 6ms/step - loss: 0.4538 - accuracy: 0.9297\n",
      "Epoch 186/500\n",
      "4/4 [==============================] - 0s 11ms/step - loss: 0.4465 - accuracy: 0.9219\n",
      "Epoch 187/500\n",
      "4/4 [==============================] - 0s 8ms/step - loss: 0.4401 - accuracy: 0.9141\n",
      "Epoch 188/500\n",
      "4/4 [==============================] - 0s 10ms/step - loss: 0.4325 - accuracy: 0.9375\n",
      "Epoch 189/500\n",
      "4/4 [==============================] - 0s 6ms/step - loss: 0.4270 - accuracy: 0.9375\n",
      "Epoch 190/500\n",
      "4/4 [==============================] - 0s 5ms/step - loss: 0.4197 - accuracy: 0.9375\n",
      "Epoch 191/500\n",
      "4/4 [==============================] - 0s 5ms/step - loss: 0.4130 - accuracy: 0.9375\n",
      "Epoch 192/500\n",
      "4/4 [==============================] - 0s 8ms/step - loss: 0.4052 - accuracy: 0.9453\n",
      "Epoch 193/500\n",
      "4/4 [==============================] - 0s 5ms/step - loss: 0.3990 - accuracy: 0.9453\n",
      "Epoch 194/500\n",
      "4/4 [==============================] - 0s 6ms/step - loss: 0.3925 - accuracy: 0.9531\n",
      "Epoch 195/500\n",
      "4/4 [==============================] - 0s 5ms/step - loss: 0.3863 - accuracy: 0.9531\n",
      "Epoch 196/500\n",
      "4/4 [==============================] - 0s 6ms/step - loss: 0.3797 - accuracy: 0.9375\n",
      "Epoch 197/500\n",
      "4/4 [==============================] - 0s 7ms/step - loss: 0.3727 - accuracy: 0.9375\n",
      "Epoch 198/500\n",
      "4/4 [==============================] - 0s 9ms/step - loss: 0.3671 - accuracy: 0.9531\n",
      "Epoch 199/500\n",
      "4/4 [==============================] - 0s 8ms/step - loss: 0.3611 - accuracy: 0.9453\n",
      "Epoch 200/500\n",
      "4/4 [==============================] - 0s 5ms/step - loss: 0.3541 - accuracy: 0.9375\n",
      "Epoch 201/500\n",
      "4/4 [==============================] - 0s 6ms/step - loss: 0.3486 - accuracy: 0.9375\n",
      "Epoch 202/500\n",
      "4/4 [==============================] - 0s 8ms/step - loss: 0.3423 - accuracy: 0.9375\n",
      "Epoch 203/500\n",
      "4/4 [==============================] - 0s 10ms/step - loss: 0.3363 - accuracy: 0.9453\n",
      "Epoch 204/500\n",
      "4/4 [==============================] - 0s 11ms/step - loss: 0.3312 - accuracy: 0.9453\n",
      "Epoch 205/500\n",
      "4/4 [==============================] - 0s 5ms/step - loss: 0.3245 - accuracy: 0.9453\n",
      "Epoch 206/500\n",
      "4/4 [==============================] - 0s 5ms/step - loss: 0.3193 - accuracy: 0.9453\n",
      "Epoch 207/500\n",
      "4/4 [==============================] - 0s 5ms/step - loss: 0.3138 - accuracy: 0.9453\n",
      "Epoch 208/500\n",
      "4/4 [==============================] - 0s 5ms/step - loss: 0.3086 - accuracy: 0.9453\n",
      "Epoch 209/500\n",
      "4/4 [==============================] - 0s 5ms/step - loss: 0.3030 - accuracy: 0.9453\n",
      "Epoch 210/500\n",
      "4/4 [==============================] - 0s 5ms/step - loss: 0.2973 - accuracy: 0.9453\n",
      "Epoch 211/500\n",
      "4/4 [==============================] - 0s 8ms/step - loss: 0.2924 - accuracy: 0.9453\n",
      "Epoch 212/500\n",
      "4/4 [==============================] - 0s 11ms/step - loss: 0.2863 - accuracy: 0.9453\n",
      "Epoch 213/500\n",
      "4/4 [==============================] - 0s 9ms/step - loss: 0.2813 - accuracy: 0.9453\n",
      "Epoch 214/500\n",
      "4/4 [==============================] - 0s 8ms/step - loss: 0.2762 - accuracy: 0.9531\n",
      "Epoch 215/500\n",
      "4/4 [==============================] - 0s 16ms/step - loss: 0.2711 - accuracy: 0.9609\n",
      "Epoch 216/500\n",
      "4/4 [==============================] - 0s 5ms/step - loss: 0.2664 - accuracy: 0.9609\n",
      "Epoch 217/500\n",
      "4/4 [==============================] - 0s 7ms/step - loss: 0.2612 - accuracy: 0.9609\n",
      "Epoch 218/500\n",
      "4/4 [==============================] - 0s 5ms/step - loss: 0.2566 - accuracy: 0.9609\n",
      "Epoch 219/500\n",
      "4/4 [==============================] - 0s 6ms/step - loss: 0.2525 - accuracy: 0.9609\n",
      "Epoch 220/500\n",
      "4/4 [==============================] - 0s 5ms/step - loss: 0.2476 - accuracy: 0.9609\n",
      "Epoch 221/500\n",
      "4/4 [==============================] - 0s 6ms/step - loss: 0.2429 - accuracy: 0.9609\n",
      "Epoch 222/500\n",
      "4/4 [==============================] - 0s 6ms/step - loss: 0.2387 - accuracy: 0.9609\n",
      "Epoch 223/500\n",
      "4/4 [==============================] - 0s 5ms/step - loss: 0.2339 - accuracy: 0.9609\n",
      "Epoch 224/500\n",
      "4/4 [==============================] - 0s 5ms/step - loss: 0.2298 - accuracy: 0.9609\n",
      "Epoch 225/500\n",
      "4/4 [==============================] - 0s 6ms/step - loss: 0.2257 - accuracy: 0.9609\n",
      "Epoch 226/500\n",
      "4/4 [==============================] - 0s 6ms/step - loss: 0.2215 - accuracy: 0.9609\n",
      "Epoch 227/500\n",
      "4/4 [==============================] - 0s 7ms/step - loss: 0.2175 - accuracy: 0.9609\n",
      "Epoch 228/500\n",
      "4/4 [==============================] - 0s 5ms/step - loss: 0.2136 - accuracy: 0.9609\n",
      "Epoch 229/500\n",
      "4/4 [==============================] - 0s 8ms/step - loss: 0.2104 - accuracy: 0.9609\n",
      "Epoch 230/500\n",
      "4/4 [==============================] - 0s 9ms/step - loss: 0.2064 - accuracy: 0.9609\n",
      "Epoch 231/500\n",
      "4/4 [==============================] - 0s 10ms/step - loss: 0.2031 - accuracy: 0.9609\n",
      "Epoch 232/500\n",
      "4/4 [==============================] - 0s 8ms/step - loss: 0.1991 - accuracy: 0.9609\n",
      "Epoch 233/500\n",
      "4/4 [==============================] - 0s 5ms/step - loss: 0.1971 - accuracy: 0.9609\n",
      "Epoch 234/500\n",
      "4/4 [==============================] - 0s 5ms/step - loss: 0.1919 - accuracy: 0.9609\n",
      "Epoch 235/500\n",
      "4/4 [==============================] - 0s 5ms/step - loss: 0.1880 - accuracy: 0.9688\n",
      "Epoch 236/500\n",
      "4/4 [==============================] - 0s 9ms/step - loss: 0.1852 - accuracy: 0.9688\n",
      "Epoch 237/500\n",
      "4/4 [==============================] - 0s 8ms/step - loss: 0.1816 - accuracy: 0.9688\n",
      "Epoch 238/500\n",
      "4/4 [==============================] - 0s 12ms/step - loss: 0.1784 - accuracy: 0.9688\n",
      "Epoch 239/500\n",
      "4/4 [==============================] - 0s 14ms/step - loss: 0.1753 - accuracy: 0.9688\n",
      "Epoch 240/500\n",
      "4/4 [==============================] - 0s 7ms/step - loss: 0.1723 - accuracy: 0.9688\n",
      "Epoch 241/500\n",
      "4/4 [==============================] - 0s 6ms/step - loss: 0.1688 - accuracy: 0.9688\n",
      "Epoch 242/500\n",
      "4/4 [==============================] - 0s 6ms/step - loss: 0.1664 - accuracy: 0.9688\n",
      "Epoch 243/500\n",
      "4/4 [==============================] - 0s 6ms/step - loss: 0.1635 - accuracy: 0.9688\n",
      "Epoch 244/500\n",
      "4/4 [==============================] - 0s 5ms/step - loss: 0.1605 - accuracy: 0.9688\n",
      "Epoch 245/500\n",
      "4/4 [==============================] - 0s 6ms/step - loss: 0.1573 - accuracy: 0.9688\n",
      "Epoch 246/500\n",
      "4/4 [==============================] - 0s 7ms/step - loss: 0.1545 - accuracy: 0.9688\n",
      "Epoch 247/500\n",
      "4/4 [==============================] - 0s 6ms/step - loss: 0.1516 - accuracy: 0.9688\n",
      "Epoch 248/500\n",
      "4/4 [==============================] - 0s 9ms/step - loss: 0.1490 - accuracy: 0.9688\n",
      "Epoch 249/500\n",
      "4/4 [==============================] - 0s 8ms/step - loss: 0.1459 - accuracy: 0.9766\n",
      "Epoch 250/500\n",
      "4/4 [==============================] - 0s 11ms/step - loss: 0.1430 - accuracy: 0.9766\n",
      "Epoch 251/500\n",
      "4/4 [==============================] - 0s 9ms/step - loss: 0.1405 - accuracy: 0.9766\n",
      "Epoch 252/500\n",
      "4/4 [==============================] - 0s 5ms/step - loss: 0.1384 - accuracy: 0.9766\n",
      "Epoch 253/500\n",
      "4/4 [==============================] - 0s 5ms/step - loss: 0.1354 - accuracy: 0.9766\n",
      "Epoch 254/500\n",
      "4/4 [==============================] - 0s 5ms/step - loss: 0.1345 - accuracy: 0.9766\n",
      "Epoch 255/500\n",
      "4/4 [==============================] - 0s 12ms/step - loss: 0.1307 - accuracy: 0.9844\n",
      "Epoch 256/500\n",
      "4/4 [==============================] - 0s 7ms/step - loss: 0.1286 - accuracy: 0.9844\n",
      "Epoch 257/500\n",
      "4/4 [==============================] - 0s 6ms/step - loss: 0.1266 - accuracy: 0.9844\n",
      "Epoch 258/500\n",
      "4/4 [==============================] - 0s 5ms/step - loss: 0.1241 - accuracy: 0.9844\n",
      "Epoch 259/500\n",
      "4/4 [==============================] - 0s 12ms/step - loss: 0.1222 - accuracy: 0.9844\n",
      "Epoch 260/500\n",
      "4/4 [==============================] - 0s 10ms/step - loss: 0.1201 - accuracy: 0.9922\n",
      "Epoch 261/500\n",
      "4/4 [==============================] - 0s 10ms/step - loss: 0.1174 - accuracy: 0.9922\n",
      "Epoch 262/500\n",
      "4/4 [==============================] - 0s 14ms/step - loss: 0.1155 - accuracy: 0.9922\n",
      "Epoch 263/500\n",
      "4/4 [==============================] - 0s 8ms/step - loss: 0.1135 - accuracy: 0.9922\n",
      "Epoch 264/500\n",
      "4/4 [==============================] - 0s 5ms/step - loss: 0.1114 - accuracy: 0.9922\n",
      "Epoch 265/500\n",
      "4/4 [==============================] - 0s 4ms/step - loss: 0.1095 - accuracy: 0.9922\n",
      "Epoch 266/500\n",
      "4/4 [==============================] - 0s 5ms/step - loss: 0.1080 - accuracy: 0.9922\n",
      "Epoch 267/500\n",
      "4/4 [==============================] - 0s 6ms/step - loss: 0.1061 - accuracy: 0.9922\n",
      "Epoch 268/500\n",
      "4/4 [==============================] - 0s 5ms/step - loss: 0.1039 - accuracy: 0.9922\n",
      "Epoch 269/500\n",
      "4/4 [==============================] - 0s 5ms/step - loss: 0.1026 - accuracy: 0.9922\n",
      "Epoch 270/500\n",
      "4/4 [==============================] - 0s 6ms/step - loss: 0.1008 - accuracy: 0.9922\n",
      "Epoch 271/500\n",
      "4/4 [==============================] - 0s 5ms/step - loss: 0.0988 - accuracy: 0.9922\n",
      "Epoch 272/500\n",
      "4/4 [==============================] - 0s 8ms/step - loss: 0.0974 - accuracy: 0.9922\n",
      "Epoch 273/500\n",
      "4/4 [==============================] - 0s 5ms/step - loss: 0.0960 - accuracy: 0.9922\n",
      "Epoch 274/500\n",
      "4/4 [==============================] - 0s 7ms/step - loss: 0.0945 - accuracy: 0.9922\n",
      "Epoch 275/500\n",
      "4/4 [==============================] - 0s 5ms/step - loss: 0.0927 - accuracy: 0.9922\n",
      "Epoch 276/500\n",
      "4/4 [==============================] - 0s 5ms/step - loss: 0.0913 - accuracy: 0.9922\n",
      "Epoch 277/500\n",
      "4/4 [==============================] - 0s 6ms/step - loss: 0.0899 - accuracy: 0.9922\n",
      "Epoch 278/500\n",
      "4/4 [==============================] - 0s 5ms/step - loss: 0.0884 - accuracy: 0.9922\n",
      "Epoch 279/500\n",
      "4/4 [==============================] - 0s 10ms/step - loss: 0.0869 - accuracy: 0.9922\n",
      "Epoch 280/500\n",
      "4/4 [==============================] - 0s 8ms/step - loss: 0.0863 - accuracy: 0.9922\n",
      "Epoch 281/500\n",
      "4/4 [==============================] - 0s 10ms/step - loss: 0.0845 - accuracy: 0.9922\n",
      "Epoch 282/500\n",
      "4/4 [==============================] - 0s 7ms/step - loss: 0.0831 - accuracy: 0.9922\n",
      "Epoch 283/500\n",
      "4/4 [==============================] - 0s 6ms/step - loss: 0.0819 - accuracy: 0.9922\n",
      "Epoch 284/500\n",
      "4/4 [==============================] - 0s 9ms/step - loss: 0.0807 - accuracy: 0.9922\n",
      "Epoch 285/500\n",
      "4/4 [==============================] - 0s 8ms/step - loss: 0.0795 - accuracy: 0.9922\n",
      "Epoch 286/500\n",
      "4/4 [==============================] - 0s 6ms/step - loss: 0.0783 - accuracy: 0.9922\n",
      "Epoch 287/500\n",
      "4/4 [==============================] - 0s 5ms/step - loss: 0.0772 - accuracy: 0.9922\n",
      "Epoch 288/500\n",
      "4/4 [==============================] - 0s 5ms/step - loss: 0.0763 - accuracy: 0.9922\n",
      "Epoch 289/500\n",
      "4/4 [==============================] - 0s 5ms/step - loss: 0.0749 - accuracy: 0.9922\n",
      "Epoch 290/500\n",
      "4/4 [==============================] - 0s 6ms/step - loss: 0.0740 - accuracy: 0.9922\n",
      "Epoch 291/500\n",
      "4/4 [==============================] - 0s 11ms/step - loss: 0.0730 - accuracy: 0.9922\n",
      "Epoch 292/500\n",
      "4/4 [==============================] - 0s 15ms/step - loss: 0.0719 - accuracy: 0.9922\n",
      "Epoch 293/500\n",
      "4/4 [==============================] - 0s 7ms/step - loss: 0.0711 - accuracy: 0.9922\n",
      "Epoch 294/500\n",
      "4/4 [==============================] - 0s 11ms/step - loss: 0.0699 - accuracy: 0.9922\n",
      "Epoch 295/500\n",
      "4/4 [==============================] - 0s 12ms/step - loss: 0.0691 - accuracy: 0.9922\n",
      "Epoch 296/500\n",
      "4/4 [==============================] - 0s 11ms/step - loss: 0.0684 - accuracy: 0.9922\n",
      "Epoch 297/500\n",
      "4/4 [==============================] - 0s 11ms/step - loss: 0.0674 - accuracy: 0.9922\n",
      "Epoch 298/500\n",
      "4/4 [==============================] - 0s 9ms/step - loss: 0.0665 - accuracy: 0.9922\n",
      "Epoch 299/500\n",
      "4/4 [==============================] - 0s 11ms/step - loss: 0.0655 - accuracy: 0.9922\n",
      "Epoch 300/500\n",
      "4/4 [==============================] - 0s 7ms/step - loss: 0.0647 - accuracy: 0.9922\n",
      "Epoch 301/500\n",
      "4/4 [==============================] - 0s 6ms/step - loss: 0.0640 - accuracy: 0.9922\n",
      "Epoch 302/500\n",
      "4/4 [==============================] - 0s 4ms/step - loss: 0.0632 - accuracy: 0.9922\n",
      "Epoch 303/500\n",
      "4/4 [==============================] - 0s 5ms/step - loss: 0.0625 - accuracy: 0.9922\n",
      "Epoch 304/500\n",
      "4/4 [==============================] - 0s 6ms/step - loss: 0.0615 - accuracy: 0.9922\n",
      "Epoch 305/500\n",
      "4/4 [==============================] - 0s 5ms/step - loss: 0.0608 - accuracy: 0.9922\n",
      "Epoch 306/500\n",
      "4/4 [==============================] - 0s 5ms/step - loss: 0.0601 - accuracy: 0.9922\n",
      "Epoch 307/500\n",
      "4/4 [==============================] - 0s 8ms/step - loss: 0.0594 - accuracy: 0.9922\n",
      "Epoch 308/500\n",
      "4/4 [==============================] - 0s 8ms/step - loss: 0.0586 - accuracy: 0.9922\n",
      "Epoch 309/500\n",
      "4/4 [==============================] - 0s 8ms/step - loss: 0.0579 - accuracy: 0.9922\n",
      "Epoch 310/500\n",
      "4/4 [==============================] - 0s 5ms/step - loss: 0.0575 - accuracy: 0.9922\n",
      "Epoch 311/500\n",
      "4/4 [==============================] - 0s 6ms/step - loss: 0.0566 - accuracy: 0.9922\n",
      "Epoch 312/500\n",
      "4/4 [==============================] - 0s 9ms/step - loss: 0.0560 - accuracy: 0.9922\n",
      "Epoch 313/500\n",
      "4/4 [==============================] - 0s 9ms/step - loss: 0.0554 - accuracy: 0.9922\n",
      "Epoch 314/500\n",
      "4/4 [==============================] - 0s 10ms/step - loss: 0.0546 - accuracy: 0.9922\n",
      "Epoch 315/500\n",
      "4/4 [==============================] - 0s 6ms/step - loss: 0.0541 - accuracy: 0.9922\n",
      "Epoch 316/500\n",
      "4/4 [==============================] - 0s 6ms/step - loss: 0.0537 - accuracy: 0.9922\n",
      "Epoch 317/500\n",
      "4/4 [==============================] - 0s 4ms/step - loss: 0.0529 - accuracy: 0.9922\n",
      "Epoch 318/500\n",
      "4/4 [==============================] - 0s 7ms/step - loss: 0.0524 - accuracy: 0.9922\n",
      "Epoch 319/500\n",
      "4/4 [==============================] - 0s 12ms/step - loss: 0.0518 - accuracy: 0.9922\n",
      "Epoch 320/500\n",
      "4/4 [==============================] - 0s 9ms/step - loss: 0.0513 - accuracy: 0.9922\n",
      "Epoch 321/500\n",
      "4/4 [==============================] - 0s 8ms/step - loss: 0.0507 - accuracy: 0.9922\n",
      "Epoch 322/500\n",
      "4/4 [==============================] - 0s 10ms/step - loss: 0.0501 - accuracy: 0.9922\n",
      "Epoch 323/500\n",
      "4/4 [==============================] - 0s 11ms/step - loss: 0.0496 - accuracy: 0.9922\n",
      "Epoch 324/500\n",
      "4/4 [==============================] - 0s 9ms/step - loss: 0.0491 - accuracy: 0.9922\n",
      "Epoch 325/500\n",
      "4/4 [==============================] - 0s 7ms/step - loss: 0.0486 - accuracy: 0.9922\n",
      "Epoch 326/500\n",
      "4/4 [==============================] - 0s 8ms/step - loss: 0.0481 - accuracy: 0.9922\n",
      "Epoch 327/500\n",
      "4/4 [==============================] - 0s 8ms/step - loss: 0.0476 - accuracy: 0.9922\n",
      "Epoch 328/500\n",
      "4/4 [==============================] - 0s 8ms/step - loss: 0.0471 - accuracy: 0.9922\n",
      "Epoch 329/500\n",
      "4/4 [==============================] - 0s 13ms/step - loss: 0.0467 - accuracy: 0.9922\n",
      "Epoch 330/500\n",
      "4/4 [==============================] - 0s 10ms/step - loss: 0.0463 - accuracy: 0.9922\n",
      "Epoch 331/500\n",
      "4/4 [==============================] - 0s 10ms/step - loss: 0.0459 - accuracy: 0.9922\n",
      "Epoch 332/500\n",
      "4/4 [==============================] - 0s 8ms/step - loss: 0.0453 - accuracy: 0.9922\n",
      "Epoch 333/500\n",
      "4/4 [==============================] - 0s 7ms/step - loss: 0.0450 - accuracy: 0.9922\n",
      "Epoch 334/500\n",
      "4/4 [==============================] - 0s 9ms/step - loss: 0.0445 - accuracy: 0.9922\n",
      "Epoch 335/500\n",
      "4/4 [==============================] - 0s 10ms/step - loss: 0.0441 - accuracy: 0.9922\n",
      "Epoch 336/500\n",
      "4/4 [==============================] - 0s 7ms/step - loss: 0.0437 - accuracy: 0.9922\n",
      "Epoch 337/500\n",
      "4/4 [==============================] - 0s 10ms/step - loss: 0.0433 - accuracy: 0.9922\n",
      "Epoch 338/500\n",
      "4/4 [==============================] - 0s 10ms/step - loss: 0.0429 - accuracy: 0.9922\n",
      "Epoch 339/500\n",
      "4/4 [==============================] - 0s 4ms/step - loss: 0.0425 - accuracy: 0.9922\n",
      "Epoch 340/500\n",
      "4/4 [==============================] - 0s 5ms/step - loss: 0.0421 - accuracy: 0.9922\n",
      "Epoch 341/500\n",
      "4/4 [==============================] - 0s 4ms/step - loss: 0.0418 - accuracy: 0.9922\n",
      "Epoch 342/500\n",
      "4/4 [==============================] - 0s 4ms/step - loss: 0.0414 - accuracy: 0.9922\n",
      "Epoch 343/500\n",
      "4/4 [==============================] - 0s 5ms/step - loss: 0.0410 - accuracy: 0.9922\n",
      "Epoch 344/500\n",
      "4/4 [==============================] - 0s 4ms/step - loss: 0.0408 - accuracy: 0.9922\n",
      "Epoch 345/500\n",
      "4/4 [==============================] - 0s 4ms/step - loss: 0.0404 - accuracy: 0.9922\n",
      "Epoch 346/500\n",
      "4/4 [==============================] - 0s 7ms/step - loss: 0.0400 - accuracy: 0.9922\n",
      "Epoch 347/500\n",
      "4/4 [==============================] - 0s 10ms/step - loss: 0.0396 - accuracy: 0.9922\n",
      "Epoch 348/500\n",
      "4/4 [==============================] - 0s 10ms/step - loss: 0.0393 - accuracy: 0.9922\n",
      "Epoch 349/500\n",
      "4/4 [==============================] - 0s 8ms/step - loss: 0.0389 - accuracy: 0.9922\n",
      "Epoch 350/500\n",
      "4/4 [==============================] - 0s 9ms/step - loss: 0.0386 - accuracy: 0.9922\n",
      "Epoch 351/500\n",
      "4/4 [==============================] - 0s 7ms/step - loss: 0.0383 - accuracy: 0.9922\n",
      "Epoch 352/500\n",
      "4/4 [==============================] - 0s 9ms/step - loss: 0.0380 - accuracy: 0.9922\n",
      "Epoch 353/500\n",
      "4/4 [==============================] - 0s 11ms/step - loss: 0.0378 - accuracy: 0.9922\n",
      "Epoch 354/500\n",
      "4/4 [==============================] - 0s 11ms/step - loss: 0.0373 - accuracy: 0.9922\n",
      "Epoch 355/500\n",
      "4/4 [==============================] - 0s 10ms/step - loss: 0.0370 - accuracy: 0.9922\n",
      "Epoch 356/500\n",
      "4/4 [==============================] - 0s 9ms/step - loss: 0.0369 - accuracy: 0.9922\n",
      "Epoch 357/500\n",
      "4/4 [==============================] - 0s 12ms/step - loss: 0.0365 - accuracy: 0.9922\n",
      "Epoch 358/500\n",
      "4/4 [==============================] - 0s 14ms/step - loss: 0.0362 - accuracy: 0.9922\n",
      "Epoch 359/500\n",
      "4/4 [==============================] - 0s 8ms/step - loss: 0.0359 - accuracy: 0.9922\n",
      "Epoch 360/500\n",
      "4/4 [==============================] - 0s 10ms/step - loss: 0.0357 - accuracy: 0.9922\n",
      "Epoch 361/500\n",
      "4/4 [==============================] - 0s 12ms/step - loss: 0.0354 - accuracy: 0.9922\n",
      "Epoch 362/500\n",
      "4/4 [==============================] - 0s 11ms/step - loss: 0.0351 - accuracy: 0.9922\n",
      "Epoch 363/500\n",
      "4/4 [==============================] - 0s 11ms/step - loss: 0.0348 - accuracy: 0.9922\n",
      "Epoch 364/500\n",
      "4/4 [==============================] - 0s 9ms/step - loss: 0.0347 - accuracy: 0.9922\n",
      "Epoch 365/500\n",
      "4/4 [==============================] - 0s 13ms/step - loss: 0.0343 - accuracy: 0.9922\n",
      "Epoch 366/500\n",
      "4/4 [==============================] - 0s 9ms/step - loss: 0.0341 - accuracy: 0.9922\n",
      "Epoch 367/500\n",
      "4/4 [==============================] - 0s 10ms/step - loss: 0.0338 - accuracy: 0.9922\n",
      "Epoch 368/500\n",
      "4/4 [==============================] - 0s 8ms/step - loss: 0.0335 - accuracy: 0.9922\n",
      "Epoch 369/500\n",
      "4/4 [==============================] - 0s 11ms/step - loss: 0.0334 - accuracy: 0.9922\n",
      "Epoch 370/500\n",
      "4/4 [==============================] - 0s 8ms/step - loss: 0.0331 - accuracy: 0.9922\n",
      "Epoch 371/500\n",
      "4/4 [==============================] - 0s 7ms/step - loss: 0.0328 - accuracy: 0.9922\n",
      "Epoch 372/500\n",
      "4/4 [==============================] - 0s 5ms/step - loss: 0.0326 - accuracy: 0.9922\n",
      "Epoch 373/500\n",
      "4/4 [==============================] - 0s 5ms/step - loss: 0.0323 - accuracy: 0.9922\n",
      "Epoch 374/500\n",
      "4/4 [==============================] - 0s 7ms/step - loss: 0.0321 - accuracy: 0.9922\n",
      "Epoch 375/500\n",
      "4/4 [==============================] - 0s 7ms/step - loss: 0.0319 - accuracy: 0.9922\n",
      "Epoch 376/500\n",
      "4/4 [==============================] - 0s 11ms/step - loss: 0.0316 - accuracy: 0.9922\n",
      "Epoch 377/500\n",
      "4/4 [==============================] - 0s 10ms/step - loss: 0.0314 - accuracy: 0.9922\n",
      "Epoch 378/500\n",
      "4/4 [==============================] - 0s 11ms/step - loss: 0.0312 - accuracy: 0.9922\n",
      "Epoch 379/500\n",
      "4/4 [==============================] - 0s 6ms/step - loss: 0.0310 - accuracy: 0.9922\n",
      "Epoch 380/500\n",
      "4/4 [==============================] - 0s 6ms/step - loss: 0.0308 - accuracy: 0.9922\n",
      "Epoch 381/500\n",
      "4/4 [==============================] - 0s 8ms/step - loss: 0.0305 - accuracy: 0.9922\n",
      "Epoch 382/500\n",
      "4/4 [==============================] - 0s 7ms/step - loss: 0.0303 - accuracy: 0.9922\n",
      "Epoch 383/500\n",
      "4/4 [==============================] - 0s 7ms/step - loss: 0.0302 - accuracy: 0.9922\n",
      "Epoch 384/500\n",
      "4/4 [==============================] - 0s 12ms/step - loss: 0.0300 - accuracy: 0.9922\n",
      "Epoch 385/500\n",
      "4/4 [==============================] - 0s 11ms/step - loss: 0.0298 - accuracy: 0.9922\n",
      "Epoch 386/500\n",
      "4/4 [==============================] - 0s 11ms/step - loss: 0.0295 - accuracy: 0.9922\n",
      "Epoch 387/500\n",
      "4/4 [==============================] - 0s 9ms/step - loss: 0.0293 - accuracy: 0.9922\n",
      "Epoch 388/500\n",
      "4/4 [==============================] - 0s 8ms/step - loss: 0.0292 - accuracy: 0.9922\n",
      "Epoch 389/500\n",
      "4/4 [==============================] - 0s 10ms/step - loss: 0.0290 - accuracy: 0.9922\n",
      "Epoch 390/500\n",
      "4/4 [==============================] - 0s 9ms/step - loss: 0.0288 - accuracy: 0.9922\n",
      "Epoch 391/500\n",
      "4/4 [==============================] - 0s 9ms/step - loss: 0.0286 - accuracy: 0.9922\n",
      "Epoch 392/500\n",
      "4/4 [==============================] - 0s 11ms/step - loss: 0.0284 - accuracy: 0.9922\n",
      "Epoch 393/500\n",
      "4/4 [==============================] - 0s 6ms/step - loss: 0.0282 - accuracy: 0.9922\n",
      "Epoch 394/500\n",
      "4/4 [==============================] - 0s 7ms/step - loss: 0.0280 - accuracy: 0.9922\n",
      "Epoch 395/500\n",
      "4/4 [==============================] - 0s 6ms/step - loss: 0.0278 - accuracy: 0.9922\n",
      "Epoch 396/500\n",
      "4/4 [==============================] - 0s 8ms/step - loss: 0.0277 - accuracy: 0.9922\n",
      "Epoch 397/500\n",
      "4/4 [==============================] - 0s 8ms/step - loss: 0.0275 - accuracy: 0.9922\n",
      "Epoch 398/500\n",
      "4/4 [==============================] - 0s 7ms/step - loss: 0.0273 - accuracy: 0.9922\n",
      "Epoch 399/500\n",
      "4/4 [==============================] - 0s 8ms/step - loss: 0.0271 - accuracy: 0.9922\n",
      "Epoch 400/500\n",
      "4/4 [==============================] - 0s 7ms/step - loss: 0.0270 - accuracy: 0.9922\n",
      "Epoch 401/500\n",
      "4/4 [==============================] - 0s 8ms/step - loss: 0.0268 - accuracy: 0.9922\n",
      "Epoch 402/500\n",
      "4/4 [==============================] - 0s 7ms/step - loss: 0.0266 - accuracy: 0.9922\n",
      "Epoch 403/500\n",
      "4/4 [==============================] - 0s 12ms/step - loss: 0.0264 - accuracy: 0.9922\n",
      "Epoch 404/500\n",
      "4/4 [==============================] - 0s 9ms/step - loss: 0.0263 - accuracy: 0.9922\n",
      "Epoch 405/500\n",
      "4/4 [==============================] - 0s 10ms/step - loss: 0.0262 - accuracy: 0.9922\n",
      "Epoch 406/500\n",
      "4/4 [==============================] - 0s 7ms/step - loss: 0.0260 - accuracy: 0.9922\n",
      "Epoch 407/500\n",
      "4/4 [==============================] - 0s 10ms/step - loss: 0.0258 - accuracy: 0.9922\n",
      "Epoch 408/500\n",
      "4/4 [==============================] - 0s 8ms/step - loss: 0.0257 - accuracy: 0.9922\n",
      "Epoch 409/500\n",
      "4/4 [==============================] - 0s 7ms/step - loss: 0.0255 - accuracy: 0.9922\n",
      "Epoch 410/500\n",
      "4/4 [==============================] - 0s 6ms/step - loss: 0.0254 - accuracy: 0.9922\n",
      "Epoch 411/500\n",
      "4/4 [==============================] - 0s 5ms/step - loss: 0.0252 - accuracy: 0.9922\n",
      "Epoch 412/500\n",
      "4/4 [==============================] - 0s 7ms/step - loss: 0.0251 - accuracy: 0.9922\n",
      "Epoch 413/500\n",
      "4/4 [==============================] - 0s 5ms/step - loss: 0.0250 - accuracy: 0.9922\n",
      "Epoch 414/500\n",
      "4/4 [==============================] - 0s 6ms/step - loss: 0.0248 - accuracy: 0.9922\n",
      "Epoch 415/500\n",
      "4/4 [==============================] - 0s 5ms/step - loss: 0.0246 - accuracy: 0.9922\n",
      "Epoch 416/500\n",
      "4/4 [==============================] - 0s 6ms/step - loss: 0.0245 - accuracy: 0.9922\n",
      "Epoch 417/500\n",
      "4/4 [==============================] - 0s 5ms/step - loss: 0.0243 - accuracy: 0.9922\n",
      "Epoch 418/500\n",
      "4/4 [==============================] - 0s 5ms/step - loss: 0.0242 - accuracy: 0.9922\n",
      "Epoch 419/500\n",
      "4/4 [==============================] - 0s 6ms/step - loss: 0.0241 - accuracy: 0.9922\n",
      "Epoch 420/500\n",
      "4/4 [==============================] - 0s 5ms/step - loss: 0.0239 - accuracy: 0.9922\n",
      "Epoch 421/500\n",
      "4/4 [==============================] - 0s 7ms/step - loss: 0.0237 - accuracy: 0.9922\n",
      "Epoch 422/500\n",
      "4/4 [==============================] - 0s 4ms/step - loss: 0.0236 - accuracy: 0.9922\n",
      "Epoch 423/500\n",
      "4/4 [==============================] - 0s 7ms/step - loss: 0.0235 - accuracy: 0.9922\n",
      "Epoch 424/500\n",
      "4/4 [==============================] - 0s 5ms/step - loss: 0.0233 - accuracy: 0.9922\n",
      "Epoch 425/500\n",
      "4/4 [==============================] - 0s 7ms/step - loss: 0.0232 - accuracy: 0.9922\n",
      "Epoch 426/500\n",
      "4/4 [==============================] - 0s 4ms/step - loss: 0.0231 - accuracy: 0.9922\n",
      "Epoch 427/500\n",
      "4/4 [==============================] - 0s 5ms/step - loss: 0.0230 - accuracy: 0.9922\n",
      "Epoch 428/500\n",
      "4/4 [==============================] - 0s 6ms/step - loss: 0.0228 - accuracy: 0.9922\n",
      "Epoch 429/500\n",
      "4/4 [==============================] - 0s 7ms/step - loss: 0.0227 - accuracy: 0.9922\n",
      "Epoch 430/500\n",
      "4/4 [==============================] - 0s 4ms/step - loss: 0.0226 - accuracy: 0.9922\n",
      "Epoch 431/500\n",
      "4/4 [==============================] - 0s 4ms/step - loss: 0.0225 - accuracy: 0.9922\n",
      "Epoch 432/500\n",
      "4/4 [==============================] - 0s 6ms/step - loss: 0.0223 - accuracy: 0.9922\n",
      "Epoch 433/500\n",
      "4/4 [==============================] - 0s 6ms/step - loss: 0.0222 - accuracy: 0.9922\n",
      "Epoch 434/500\n",
      "4/4 [==============================] - 0s 5ms/step - loss: 0.0221 - accuracy: 0.9922\n",
      "Epoch 435/500\n",
      "4/4 [==============================] - 0s 5ms/step - loss: 0.0220 - accuracy: 0.9922\n",
      "Epoch 436/500\n",
      "4/4 [==============================] - 0s 5ms/step - loss: 0.0218 - accuracy: 0.9922\n",
      "Epoch 437/500\n",
      "4/4 [==============================] - 0s 5ms/step - loss: 0.0217 - accuracy: 0.9922\n",
      "Epoch 438/500\n",
      "4/4 [==============================] - 0s 5ms/step - loss: 0.0216 - accuracy: 0.9922\n",
      "Epoch 439/500\n",
      "4/4 [==============================] - 0s 5ms/step - loss: 0.0215 - accuracy: 0.9922\n",
      "Epoch 440/500\n",
      "4/4 [==============================] - 0s 8ms/step - loss: 0.0213 - accuracy: 0.9922\n",
      "Epoch 441/500\n",
      "4/4 [==============================] - 0s 8ms/step - loss: 0.0212 - accuracy: 0.9922\n",
      "Epoch 442/500\n",
      "4/4 [==============================] - 0s 9ms/step - loss: 0.0211 - accuracy: 0.9922\n",
      "Epoch 443/500\n",
      "4/4 [==============================] - 0s 11ms/step - loss: 0.0210 - accuracy: 0.9922\n",
      "Epoch 444/500\n",
      "4/4 [==============================] - 0s 9ms/step - loss: 0.0209 - accuracy: 0.9922\n",
      "Epoch 445/500\n",
      "4/4 [==============================] - 0s 6ms/step - loss: 0.0207 - accuracy: 0.9922\n",
      "Epoch 446/500\n",
      "4/4 [==============================] - 0s 6ms/step - loss: 0.0206 - accuracy: 0.9922\n",
      "Epoch 447/500\n",
      "4/4 [==============================] - 0s 7ms/step - loss: 0.0205 - accuracy: 0.9922\n",
      "Epoch 448/500\n",
      "4/4 [==============================] - 0s 11ms/step - loss: 0.0204 - accuracy: 0.9922\n",
      "Epoch 449/500\n",
      "4/4 [==============================] - 0s 6ms/step - loss: 0.0202 - accuracy: 0.9922\n",
      "Epoch 450/500\n",
      "4/4 [==============================] - 0s 5ms/step - loss: 0.0201 - accuracy: 0.9922\n",
      "Epoch 451/500\n",
      "4/4 [==============================] - 0s 8ms/step - loss: 0.0200 - accuracy: 0.9922\n",
      "Epoch 452/500\n",
      "4/4 [==============================] - 0s 9ms/step - loss: 0.0199 - accuracy: 0.9922\n",
      "Epoch 453/500\n",
      "4/4 [==============================] - 0s 12ms/step - loss: 0.0198 - accuracy: 0.9922\n",
      "Epoch 454/500\n",
      "4/4 [==============================] - 0s 5ms/step - loss: 0.0196 - accuracy: 0.9922\n",
      "Epoch 455/500\n",
      "4/4 [==============================] - 0s 7ms/step - loss: 0.0195 - accuracy: 0.9922\n",
      "Epoch 456/500\n",
      "4/4 [==============================] - 0s 10ms/step - loss: 0.0193 - accuracy: 0.9922\n",
      "Epoch 457/500\n",
      "4/4 [==============================] - 0s 12ms/step - loss: 0.0192 - accuracy: 0.9922\n",
      "Epoch 458/500\n",
      "4/4 [==============================] - 0s 8ms/step - loss: 0.0191 - accuracy: 0.9922\n",
      "Epoch 459/500\n",
      "4/4 [==============================] - 0s 8ms/step - loss: 0.0190 - accuracy: 0.9922\n",
      "Epoch 460/500\n",
      "4/4 [==============================] - 0s 7ms/step - loss: 0.0188 - accuracy: 0.9922\n",
      "Epoch 461/500\n",
      "4/4 [==============================] - 0s 5ms/step - loss: 0.0187 - accuracy: 0.9922\n",
      "Epoch 462/500\n",
      "4/4 [==============================] - 0s 9ms/step - loss: 0.0186 - accuracy: 0.9922\n",
      "Epoch 463/500\n",
      "4/4 [==============================] - 0s 7ms/step - loss: 0.0184 - accuracy: 0.9922\n",
      "Epoch 464/500\n",
      "4/4 [==============================] - 0s 13ms/step - loss: 0.0183 - accuracy: 0.9922\n",
      "Epoch 465/500\n",
      "4/4 [==============================] - 0s 13ms/step - loss: 0.0182 - accuracy: 0.9922\n",
      "Epoch 466/500\n",
      "4/4 [==============================] - 0s 11ms/step - loss: 0.0179 - accuracy: 0.9922\n",
      "Epoch 467/500\n",
      "4/4 [==============================] - 0s 10ms/step - loss: 0.0166 - accuracy: 0.9922\n",
      "Epoch 468/500\n",
      "4/4 [==============================] - 0s 9ms/step - loss: 0.0150 - accuracy: 0.9922\n",
      "Epoch 469/500\n",
      "4/4 [==============================] - 0s 7ms/step - loss: 0.0139 - accuracy: 1.0000\n",
      "Epoch 470/500\n",
      "4/4 [==============================] - 0s 9ms/step - loss: 0.0130 - accuracy: 1.0000\n",
      "Epoch 471/500\n",
      "4/4 [==============================] - 0s 8ms/step - loss: 0.0115 - accuracy: 1.0000\n",
      "Epoch 472/500\n",
      "4/4 [==============================] - 0s 9ms/step - loss: 0.0111 - accuracy: 1.0000\n",
      "Epoch 473/500\n",
      "4/4 [==============================] - 0s 8ms/step - loss: 0.0109 - accuracy: 1.0000\n",
      "Epoch 474/500\n",
      "4/4 [==============================] - 0s 7ms/step - loss: 0.0107 - accuracy: 1.0000\n",
      "Epoch 475/500\n",
      "4/4 [==============================] - 0s 8ms/step - loss: 0.0106 - accuracy: 1.0000\n",
      "Epoch 476/500\n",
      "4/4 [==============================] - 0s 9ms/step - loss: 0.0104 - accuracy: 1.0000\n",
      "Epoch 477/500\n",
      "4/4 [==============================] - 0s 9ms/step - loss: 0.0102 - accuracy: 1.0000\n",
      "Epoch 478/500\n",
      "4/4 [==============================] - 0s 8ms/step - loss: 0.0100 - accuracy: 1.0000\n",
      "Epoch 479/500\n",
      "4/4 [==============================] - 0s 9ms/step - loss: 0.0098 - accuracy: 1.0000\n",
      "Epoch 480/500\n",
      "4/4 [==============================] - 0s 11ms/step - loss: 0.0097 - accuracy: 1.0000\n",
      "Epoch 481/500\n",
      "4/4 [==============================] - 0s 7ms/step - loss: 0.0096 - accuracy: 1.0000\n",
      "Epoch 482/500\n",
      "4/4 [==============================] - 0s 6ms/step - loss: 0.0094 - accuracy: 1.0000\n",
      "Epoch 483/500\n",
      "4/4 [==============================] - 0s 7ms/step - loss: 0.0093 - accuracy: 1.0000\n",
      "Epoch 484/500\n",
      "4/4 [==============================] - 0s 6ms/step - loss: 0.0092 - accuracy: 1.0000\n",
      "Epoch 485/500\n",
      "4/4 [==============================] - 0s 6ms/step - loss: 0.0091 - accuracy: 1.0000\n",
      "Epoch 486/500\n",
      "4/4 [==============================] - 0s 5ms/step - loss: 0.0090 - accuracy: 1.0000\n",
      "Epoch 487/500\n",
      "4/4 [==============================] - 0s 7ms/step - loss: 0.0089 - accuracy: 1.0000\n",
      "Epoch 488/500\n",
      "4/4 [==============================] - 0s 6ms/step - loss: 0.0088 - accuracy: 1.0000\n",
      "Epoch 489/500\n",
      "4/4 [==============================] - 0s 8ms/step - loss: 0.0087 - accuracy: 1.0000\n",
      "Epoch 490/500\n",
      "4/4 [==============================] - 0s 13ms/step - loss: 0.0086 - accuracy: 1.0000\n",
      "Epoch 491/500\n",
      "4/4 [==============================] - 0s 11ms/step - loss: 0.0085 - accuracy: 1.0000\n",
      "Epoch 492/500\n",
      "4/4 [==============================] - 0s 14ms/step - loss: 0.0083 - accuracy: 1.0000\n",
      "Epoch 493/500\n",
      "4/4 [==============================] - 0s 8ms/step - loss: 0.0083 - accuracy: 1.0000\n",
      "Epoch 494/500\n",
      "4/4 [==============================] - 0s 12ms/step - loss: 0.0082 - accuracy: 1.0000\n",
      "Epoch 495/500\n",
      "4/4 [==============================] - 0s 10ms/step - loss: 0.0081 - accuracy: 1.0000\n",
      "Epoch 496/500\n",
      "4/4 [==============================] - 0s 10ms/step - loss: 0.0080 - accuracy: 1.0000\n",
      "Epoch 497/500\n",
      "4/4 [==============================] - 0s 7ms/step - loss: 0.0079 - accuracy: 1.0000\n",
      "Epoch 498/500\n",
      "4/4 [==============================] - 0s 6ms/step - loss: 0.0078 - accuracy: 1.0000\n",
      "Epoch 499/500\n",
      "4/4 [==============================] - 0s 7ms/step - loss: 0.0077 - accuracy: 1.0000\n",
      "Epoch 500/500\n",
      "4/4 [==============================] - 0s 7ms/step - loss: 0.0077 - accuracy: 1.0000\n"
     ]
    }
   ],
   "source": [
    "#Building the ML model\n",
    "model = Sequential()\n",
    "model.add(Embedding(vocab_size, embedding_dim, input_length=max_len))\n",
    "model.add(GlobalAveragePooling1D())\n",
    "model.add(Dense(16, activation='relu'))\n",
    "model.add(Dense(16, activation='relu'))\n",
    "model.add(Dense(num_classes, activation='softmax'))\n",
    "\n",
    "model.compile(loss='sparse_categorical_crossentropy', \n",
    "              optimizer='adam', metrics=['accuracy'])\n",
    "\n",
    "model.summary()\n",
    "epochs = 500\n",
    "history = model.fit(padded_sequences, np.array(training_labels), epochs=epochs)"
   ]
  },
  {
   "cell_type": "code",
   "execution_count": null,
   "metadata": {
    "colab": {
     "base_uri": "https://localhost:8080/"
    },
    "id": "6y_7tqF3VDCM",
    "outputId": "0012cd54-002e-4866-e820-21dea06f4e43"
   },
   "outputs": [
    {
     "name": "stdout",
     "output_type": "stream",
     "text": [
      "INFO:tensorflow:Assets written to: ./NLP1/chat_model/assets\n"
     ]
    }
   ],
   "source": [
    "# to save the trained model\n",
    "model.save(\"./NLP1/chat_model\")\n",
    "\n",
    "# to save the fitted tokenizer\n",
    "with open('tokenizer.pickle', 'wb') as handle:\n",
    "    pickle.dump(tokenizer, handle, protocol=pickle.HIGHEST_PROTOCOL)\n",
    "    \n",
    "# to save the fitted label encoder\n",
    "with open('label_encoder.pickle', 'wb') as ecn_file:\n",
    "    pickle.dump(lbl_encoder, ecn_file, protocol=pickle.HIGHEST_PROTOCOL)"
   ]
  },
  {
   "cell_type": "code",
   "execution_count": null,
   "metadata": {
    "colab": {
     "base_uri": "https://localhost:8080/"
    },
    "id": "gZwX6GwzVC_Z",
    "outputId": "23e7235c-a7bc-4b74-c043-431c20e012e6"
   },
   "outputs": [
    {
     "name": "stdout",
     "output_type": "stream",
     "text": [
      "Start messaging with the bot (type quit to stop)!\n",
      "Chat with the BOT (type: stop/quit)\n",
      "If answer is not right (type: *)\n",
      "You: hi\n",
      "THE BOT: Hello! how can i help you ?\n",
      "You: yo\n",
      "THE BOT: Hello! how can i help you ?\n",
      "You: sgd\n",
      "THE BOT: Link: Neural Nets wiki\n",
      "You: NN\n",
      "THE BOT: Hello! how can i help you ?\n",
      "You: ML\n",
      "THE BOT: Link: Machine Learning wiki \n",
      "You: olympus\n",
      "THE BOT: Link: Olympus wiki\n",
      "You: nb\n",
      "THE BOT: Link: Machine Learning wiki \n",
      "You: sl\n",
      "THE BOT: Link: Machine Learning wiki \n",
      "You: later\n",
      "THE BOT: I hope I was able to assist you, Good Bye\n",
      "You: hell\n",
      "THE BOT: Tarnsferring the request to your PM\n",
      "You: not solved\n",
      "THE BOT: I hope I was able to assist you, Good Bye\n",
      "You: my problem is not solved\n",
      "THE BOT: Tarnsferring the request to your PM\n",
      "You: jerk\n",
      "THE BOT: Please use respectful words\n",
      "You: name please\n",
      "THE BOT: I am your virtual learning assistant\n",
      "You: later\n",
      "THE BOT: I hope I was able to assist you, Good Bye\n",
      "You: stop\n"
     ]
    }
   ],
   "source": [
    "with open(\"./NLP1/GL Bot.json\") as file:\n",
    "    data = json.load(file)\n",
    "\n",
    "\n",
    "def chat():\n",
    "    print(\"Chat with the BOT (type: stop/quit)\")\n",
    "    print(\"If answer is not right (type: *)\")\n",
    "    # load trained model\n",
    "    model = keras.models.load_model('./NLP1/chat_model')\n",
    "\n",
    "    # load tokenizer object\n",
    "    with open('tokenizer.pickle', 'rb') as handle:\n",
    "        tokenizer = pickle.load(handle)\n",
    "\n",
    "    # load label encoder object\n",
    "    with open('label_encoder.pickle', 'rb') as enc:\n",
    "        lbl_encoder = pickle.load(enc)\n",
    "\n",
    "    # parameters\n",
    "    max_len = 20\n",
    "    \n",
    "    while True:\n",
    "        print(Fore.LIGHTBLUE_EX + \"You: \" + Style.RESET_ALL, end=\"\")\n",
    "        inp = input()\n",
    "        if inp.lower() == \"*\":\n",
    "          print(\"BOT: Please rephrase your question and try again\")\n",
    "        if (inp.lower() == \"quit\") or (inp.lower() == \"stop\") :\n",
    "            break\n",
    "   \n",
    "        result = model.predict(keras.preprocessing.sequence.pad_sequences(tokenizer.texts_to_sequences([inp]),\n",
    "                                             truncating='post', maxlen=max_len))\n",
    "        tag = lbl_encoder.inverse_transform([np.argmax(result)])\n",
    "\n",
    "        for i in data['intents']:\n",
    "            if i['tag'] == tag:\n",
    "                print(Fore.GREEN + \"THE BOT:\" + Style.RESET_ALL , np.random.choice(i['responses']))\n",
    "\n",
    "        \n",
    "\n",
    "\n",
    "\n",
    "print(Fore.YELLOW + \"Start messaging with the bot (type quit to stop)!\" + Style.RESET_ALL)\n",
    "chat()"
   ]
  },
  {
   "cell_type": "markdown",
   "metadata": {
    "id": "4W7TJgRhgO2W"
   },
   "source": [
    "============================== END of the Notebook ============================="
   ]
  }
 ],
 "metadata": {
  "colab": {
   "collapsed_sections": [],
   "name": "NLP-Project1-Mallikarjuna.ipynb",
   "provenance": []
  },
  "kernelspec": {
   "display_name": "Python 3",
   "language": "python",
   "name": "python3"
  },
  "language_info": {
   "codemirror_mode": {
    "name": "ipython",
    "version": 3
   },
   "file_extension": ".py",
   "mimetype": "text/x-python",
   "name": "python",
   "nbconvert_exporter": "python",
   "pygments_lexer": "ipython3",
   "version": "3.8.5"
  }
 },
 "nbformat": 4,
 "nbformat_minor": 1
}
